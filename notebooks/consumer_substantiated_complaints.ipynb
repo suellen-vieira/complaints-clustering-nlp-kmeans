{
 "cells": [
  {
   "cell_type": "markdown",
   "id": "95afb73d",
   "metadata": {},
   "source": [
    "# Consumer Business Complaints Analysis (PROCONS - Sindec 2022)\n",
    "\n",
    "This project explores the 2022 dataset of consumer complaints registered in Brazilian PROCONs, made available through the National Consumer Secretariat (Sindec / Ministry of Justice).\n",
    "\n",
    "The main objectives are:\n",
    "\n",
    "* Thematic Clustering - Using Natural Language Processing (NLP) techniques and KMeans clustering to identify recurring topics and group similar complaints. This helps uncover the most common consumer dissatisfaction themes, such as overcharging, poor service, or contractual issues.\n",
    "\n",
    "* Predictive Modeling - Building a supervised machine learning model using Random Forest to predict whether a complaint will be resolved (Atendida) or not. The model uses structured features from the dataset and aims to assist regulatory agencies and companies in risk assessment and complaint triage.\n",
    "\n",
    "The notebook includes all steps from data cleaning, preprocessing, feature engineering, to model training, evaluation, and cluster interpretation, with visualizations and insights."
   ]
  },
  {
   "cell_type": "markdown",
   "id": "62205045",
   "metadata": {},
   "source": [
    "## Importing Libraries\n",
    "\n",
    "We start by importing essential libraries for: \n",
    "\n",
    "* Data manipulation (Pandas, NumPy)\n",
    "\n",
    "* Visualization (Seaborn, Matplotlib)\n",
    "\n",
    "* Modeling (Scikit-learn)\n",
    "\n",
    "* Natural Language Processing (nltk)\n",
    "\n",
    "Then we follow by loading the consumer complaints dataset into a pandas DataFrame. "
   ]
  },
  {
   "cell_type": "code",
   "execution_count": 72,
   "id": "ca638088",
   "metadata": {},
   "outputs": [
    {
     "name": "stderr",
     "output_type": "stream",
     "text": [
      "[nltk_data] Downloading package stopwords to\n",
      "[nltk_data]     C:\\Users\\Pichau\\AppData\\Roaming\\nltk_data...\n",
      "[nltk_data]   Package stopwords is already up-to-date!\n"
     ]
    }
   ],
   "source": [
    "import pandas as pd\n",
    "import numpy as np\n",
    "import seaborn as sns\n",
    "import string\n",
    "import matplotlib.pyplot as plt\n",
    "from sklearn.ensemble import RandomForestClassifier\n",
    "from sklearn.cluster import KMeans\n",
    "from sklearn.pipeline import Pipeline\n",
    "from sklearn.model_selection import train_test_split, GridSearchCV\n",
    "from sklearn.metrics import confusion_matrix, ConfusionMatrixDisplay, classification_report\n",
    "from sklearn.compose import ColumnTransformer\n",
    "from sklearn.preprocessing import StandardScaler, OneHotEncoder\n",
    "from sklearn.feature_extraction.text import TfidfTransformer, CountVectorizer, TfidfVectorizer\n",
    "from nltk.corpus import stopwords\n",
    "import nltk\n",
    "from collections import Counter\n",
    "import re\n",
    "\n",
    "nltk.download('stopwords')\n",
    "\n",
    "%matplotlib inline"
   ]
  },
  {
   "cell_type": "code",
   "execution_count": 73,
   "id": "db8f3d63",
   "metadata": {},
   "outputs": [
    {
     "data": {
      "text/html": [
       "<div>\n",
       "<style scoped>\n",
       "    .dataframe tbody tr th:only-of-type {\n",
       "        vertical-align: middle;\n",
       "    }\n",
       "\n",
       "    .dataframe tbody tr th {\n",
       "        vertical-align: top;\n",
       "    }\n",
       "\n",
       "    .dataframe thead th {\n",
       "        text-align: right;\n",
       "    }\n",
       "</style>\n",
       "<table border=\"1\" class=\"dataframe\">\n",
       "  <thead>\n",
       "    <tr style=\"text-align: right;\">\n",
       "      <th></th>\n",
       "      <th>AnoCalendario</th>\n",
       "      <th>DataArquivamento</th>\n",
       "      <th>DataAbertura</th>\n",
       "      <th>CodigoRegiao</th>\n",
       "      <th>Regiao</th>\n",
       "      <th>UF</th>\n",
       "      <th>strRazaoSocial</th>\n",
       "      <th>strNomeFantasia</th>\n",
       "      <th>Tipo</th>\n",
       "      <th>NumeroCNPJ</th>\n",
       "      <th>...</th>\n",
       "      <th>NomeFantasiaRFB</th>\n",
       "      <th>CNAEPrincipal</th>\n",
       "      <th>DescCNAEPrincipal</th>\n",
       "      <th>Atendida</th>\n",
       "      <th>CodigoAssunto</th>\n",
       "      <th>DescricaoAssunto</th>\n",
       "      <th>CodigoProblema</th>\n",
       "      <th>DescricaoProblema</th>\n",
       "      <th>SexoConsumidor</th>\n",
       "      <th>FaixaEtariaConsumidor</th>\n",
       "    </tr>\n",
       "  </thead>\n",
       "  <tbody>\n",
       "    <tr>\n",
       "      <th>0</th>\n",
       "      <td>2022</td>\n",
       "      <td>NaN</td>\n",
       "      <td>NaN</td>\n",
       "      <td>5</td>\n",
       "      <td>Centro-oeste</td>\n",
       "      <td>MT</td>\n",
       "      <td>BOOKPLAY</td>\n",
       "      <td>NaN</td>\n",
       "      <td>1</td>\n",
       "      <td>NaN</td>\n",
       "      <td>...</td>\n",
       "      <td>NaN</td>\n",
       "      <td>NaN</td>\n",
       "      <td>NaN</td>\n",
       "      <td>N</td>\n",
       "      <td>63</td>\n",
       "      <td>Financeira</td>\n",
       "      <td>NaN</td>\n",
       "      <td>NaN</td>\n",
       "      <td>NaN</td>\n",
       "      <td>Nao Informada</td>\n",
       "    </tr>\n",
       "    <tr>\n",
       "      <th>1</th>\n",
       "      <td>2022</td>\n",
       "      <td>2022-06-27 10:57:04.000</td>\n",
       "      <td>2021-12-01 13:18:11.000</td>\n",
       "      <td>1</td>\n",
       "      <td>Norte</td>\n",
       "      <td>PA</td>\n",
       "      <td>SEGUROS SURA S/A</td>\n",
       "      <td>SEGUROS SURA S/A</td>\n",
       "      <td>1</td>\n",
       "      <td>3.306570e+13</td>\n",
       "      <td>...</td>\n",
       "      <td>NaN</td>\n",
       "      <td>6512000.0</td>\n",
       "      <td>SEGUROS NÃO-VIDA</td>\n",
       "      <td>N</td>\n",
       "      <td>95</td>\n",
       "      <td>Aparelho de Som ( Gravador, 3x1, CD )</td>\n",
       "      <td>2496.0</td>\n",
       "      <td>Produto com vício</td>\n",
       "      <td>M</td>\n",
       "      <td>entre 21 a 30 anos</td>\n",
       "    </tr>\n",
       "    <tr>\n",
       "      <th>2</th>\n",
       "      <td>2022</td>\n",
       "      <td>2022-06-06 10:39:02.000</td>\n",
       "      <td>2021-10-27 11:00:05.000</td>\n",
       "      <td>1</td>\n",
       "      <td>Norte</td>\n",
       "      <td>PA</td>\n",
       "      <td>TELEFÔNICA BRASIL S/A</td>\n",
       "      <td>VIVO</td>\n",
       "      <td>1</td>\n",
       "      <td>2.558157e+12</td>\n",
       "      <td>...</td>\n",
       "      <td>NaN</td>\n",
       "      <td>6110801.0</td>\n",
       "      <td>SERVIÇOS DE TELEFONIA FIXA COMUTADA - STFC</td>\n",
       "      <td>S</td>\n",
       "      <td>186</td>\n",
       "      <td>Telefonia Fixa ( Plano de Expansão / Compra e ...</td>\n",
       "      <td>3745.0</td>\n",
       "      <td>Cobrança indevida/abusiva</td>\n",
       "      <td>F</td>\n",
       "      <td>entre 61 a 70 anos</td>\n",
       "    </tr>\n",
       "    <tr>\n",
       "      <th>3</th>\n",
       "      <td>2022</td>\n",
       "      <td>2022-01-05 11:21:09.000</td>\n",
       "      <td>2021-09-24 10:08:06.000</td>\n",
       "      <td>1</td>\n",
       "      <td>Norte</td>\n",
       "      <td>PA</td>\n",
       "      <td>BANCO MERCANTIL DO BRASIL S/A</td>\n",
       "      <td>BMB</td>\n",
       "      <td>1</td>\n",
       "      <td>1.718404e+13</td>\n",
       "      <td>...</td>\n",
       "      <td>NaN</td>\n",
       "      <td>6422100.0</td>\n",
       "      <td>BANCOS MÚLTIPLOS, COM CARTEIRA COMERCIAL</td>\n",
       "      <td>S</td>\n",
       "      <td>53</td>\n",
       "      <td>Banco comercial</td>\n",
       "      <td>6915.0</td>\n",
       "      <td>Crédito Consignado</td>\n",
       "      <td>F</td>\n",
       "      <td>entre 51 a 60 anos</td>\n",
       "    </tr>\n",
       "    <tr>\n",
       "      <th>4</th>\n",
       "      <td>2022</td>\n",
       "      <td>2022-04-11 11:42:24.000</td>\n",
       "      <td>2019-08-28 14:28:51.000</td>\n",
       "      <td>1</td>\n",
       "      <td>Norte</td>\n",
       "      <td>TO</td>\n",
       "      <td>VIA VAREJO S/A</td>\n",
       "      <td>VIA VAREJO S/A</td>\n",
       "      <td>1</td>\n",
       "      <td>3.304126e+13</td>\n",
       "      <td>...</td>\n",
       "      <td>NaN</td>\n",
       "      <td>NaN</td>\n",
       "      <td>NaN</td>\n",
       "      <td>N</td>\n",
       "      <td>88</td>\n",
       "      <td>Acessório para Aparelho Eletrônico/Pilha/Elétr...</td>\n",
       "      <td>2489.0</td>\n",
       "      <td>Produto com vício</td>\n",
       "      <td>F</td>\n",
       "      <td>entre 51 a 60 anos</td>\n",
       "    </tr>\n",
       "  </tbody>\n",
       "</table>\n",
       "<p>5 rows × 22 columns</p>\n",
       "</div>"
      ],
      "text/plain": [
       "   AnoCalendario         DataArquivamento             DataAbertura  \\\n",
       "0           2022                      NaN                      NaN   \n",
       "1           2022  2022-06-27 10:57:04.000  2021-12-01 13:18:11.000   \n",
       "2           2022  2022-06-06 10:39:02.000  2021-10-27 11:00:05.000   \n",
       "3           2022  2022-01-05 11:21:09.000  2021-09-24 10:08:06.000   \n",
       "4           2022  2022-04-11 11:42:24.000  2019-08-28 14:28:51.000   \n",
       "\n",
       "   CodigoRegiao        Regiao  UF                 strRazaoSocial  \\\n",
       "0             5  Centro-oeste  MT                       BOOKPLAY   \n",
       "1             1         Norte  PA               SEGUROS SURA S/A   \n",
       "2             1         Norte  PA          TELEFÔNICA BRASIL S/A   \n",
       "3             1         Norte  PA  BANCO MERCANTIL DO BRASIL S/A   \n",
       "4             1         Norte  TO                 VIA VAREJO S/A   \n",
       "\n",
       "    strNomeFantasia  Tipo    NumeroCNPJ  ...  NomeFantasiaRFB CNAEPrincipal  \\\n",
       "0               NaN     1           NaN  ...              NaN           NaN   \n",
       "1  SEGUROS SURA S/A     1  3.306570e+13  ...              NaN     6512000.0   \n",
       "2              VIVO     1  2.558157e+12  ...              NaN     6110801.0   \n",
       "3               BMB     1  1.718404e+13  ...              NaN     6422100.0   \n",
       "4    VIA VAREJO S/A     1  3.304126e+13  ...              NaN           NaN   \n",
       "\n",
       "                            DescCNAEPrincipal  Atendida CodigoAssunto  \\\n",
       "0                                         NaN         N            63   \n",
       "1                            SEGUROS NÃO-VIDA         N            95   \n",
       "2  SERVIÇOS DE TELEFONIA FIXA COMUTADA - STFC         S           186   \n",
       "3    BANCOS MÚLTIPLOS, COM CARTEIRA COMERCIAL         S            53   \n",
       "4                                         NaN         N            88   \n",
       "\n",
       "                                    DescricaoAssunto  CodigoProblema  \\\n",
       "0                                         Financeira             NaN   \n",
       "1              Aparelho de Som ( Gravador, 3x1, CD )          2496.0   \n",
       "2  Telefonia Fixa ( Plano de Expansão / Compra e ...          3745.0   \n",
       "3                                    Banco comercial          6915.0   \n",
       "4  Acessório para Aparelho Eletrônico/Pilha/Elétr...          2489.0   \n",
       "\n",
       "           DescricaoProblema  SexoConsumidor FaixaEtariaConsumidor  \n",
       "0                        NaN             NaN         Nao Informada  \n",
       "1          Produto com vício               M    entre 21 a 30 anos  \n",
       "2  Cobrança indevida/abusiva               F    entre 61 a 70 anos  \n",
       "3         Crédito Consignado               F    entre 51 a 60 anos  \n",
       "4          Produto com vício               F    entre 51 a 60 anos  \n",
       "\n",
       "[5 rows x 22 columns]"
      ]
     },
     "execution_count": 73,
     "metadata": {},
     "output_type": "execute_result"
    }
   ],
   "source": [
    "complaints = pd.read_csv('../data/consumer_complaints_PROCONS_Sindec.csv', sep=';', encoding='utf-8-sig', on_bad_lines='skip')\n",
    "complaints.drop('CEPConsumidor', axis=1, inplace=True)\n",
    "complaints.head()"
   ]
  },
  {
   "cell_type": "markdown",
   "id": "6f166550",
   "metadata": {},
   "source": [
    "Below is a brief description of key fields from the Sindec (Cadastro Nacional de Reclamações Fundamentadas – 2022) dataset, used in this project:\n",
    "\n",
    "| Field Name              | Description (English)                                                               |\n",
    "| ----------------------- | ----------------------------------------------------------------------------------- |\n",
    "| 'AnoCalendario'         | Calendar year of the complaint archive report.                                      |\n",
    "| 'DataAbertura'          | Opening date of the complaint (when the consumer filed it).                         |\n",
    "| 'DataArquivamento'      | Archive date of the complaint (when the case was closed).                           |\n",
    "| 'CodigoRegiao'          | Numeric code for the region of the PROCON: 01-North, 02-Northeast, etc.             |\n",
    "| 'Regiao'                | Geographic region of the PROCON that handled the complaint.                         |\n",
    "| 'UF'                    | Federal unit (state) of the PROCON.                                                 |\n",
    "| 'strRazaoSocial'        | Registered legal name of the supplier (company).                                    |\n",
    "| 'strNomeFantasia'       | Trade name (commercial/brand name) of the supplier.                                 |\n",
    "| 'NumeroCNPJ'            | National company identifier (CNPJ) or personal CPF number.                          |\n",
    "| 'RadicalCNPJ'           | First 8 digits of CNPJ, used to group main company and its branches.                |\n",
    "| 'RazaoSocialRFB'        | Company name according to the Receita Federal (tax authority).                      |\n",
    "| 'NomeFantasiaRFB'       | Trade name from Receita Federal records.                                            |\n",
    "| 'CNAEPrincipal'         | National classification code for the supplier’s main economic activity.             |\n",
    "| 'DescCNAEPrincipal'     | Description of the CNAE activity code.                                              |\n",
    "| 'CodigoAssunto'         | Numerical code of the general subject of the complaint.                             |\n",
    "| 'DescricaoAssunto'      | Description of the complaint subject (e.g., product or service type).               |\n",
    "| 'CodigoProblema'        | Numerical code of the specific problem reported.                                    |\n",
    "| 'DescricaoProblema'     | Description of the consumer's reported issue (e.g., overcharging, contract breach). |\n",
    "| 'Atendida'              | Whether the complaint was resolved (S = Yes, N = No).                               |\n",
    "| 'SexoConsumidor'        | Gender of the consumer: M = Male, F = Female, N = Not applicable.                   |\n",
    "| 'FaixaEtariaConsumidor' | Age range of the consumer (e.g., 21–30, 31–40, etc.).                               |"
   ]
  },
  {
   "cell_type": "markdown",
   "id": "ebe259cf",
   "metadata": {},
   "source": [
    "## Feature Engineering\n",
    "\n",
    "### Dropping Irrelevant or Redundant Columns\n",
    "\n",
    "In this step, we remove several columns from the dataset that are either:\n",
    "\n",
    "* Identifiers (e.g., CNPJ, company names),\n",
    "\n",
    "* Redundant or highly correlated fields (e.g., multiple company name formats or CNAE codes),\n",
    "\n",
    "* Non-informative for modeling (e.g., region codes, calendar year),\n",
    "\n",
    "Removing these columns helps simplify the dataset and prevent data leakage. "
   ]
  },
  {
   "cell_type": "code",
   "execution_count": 74,
   "id": "c98fcd92",
   "metadata": {},
   "outputs": [
    {
     "data": {
      "text/html": [
       "<div>\n",
       "<style scoped>\n",
       "    .dataframe tbody tr th:only-of-type {\n",
       "        vertical-align: middle;\n",
       "    }\n",
       "\n",
       "    .dataframe tbody tr th {\n",
       "        vertical-align: top;\n",
       "    }\n",
       "\n",
       "    .dataframe thead th {\n",
       "        text-align: right;\n",
       "    }\n",
       "</style>\n",
       "<table border=\"1\" class=\"dataframe\">\n",
       "  <thead>\n",
       "    <tr style=\"text-align: right;\">\n",
       "      <th></th>\n",
       "      <th>DataArquivamento</th>\n",
       "      <th>DataAbertura</th>\n",
       "      <th>Regiao</th>\n",
       "      <th>UF</th>\n",
       "      <th>strRazaoSocial</th>\n",
       "      <th>Tipo</th>\n",
       "      <th>Atendida</th>\n",
       "      <th>DescricaoAssunto</th>\n",
       "      <th>DescricaoProblema</th>\n",
       "      <th>SexoConsumidor</th>\n",
       "      <th>FaixaEtariaConsumidor</th>\n",
       "    </tr>\n",
       "  </thead>\n",
       "  <tbody>\n",
       "    <tr>\n",
       "      <th>0</th>\n",
       "      <td>NaT</td>\n",
       "      <td>NaT</td>\n",
       "      <td>Centro-oeste</td>\n",
       "      <td>MT</td>\n",
       "      <td>BOOKPLAY</td>\n",
       "      <td>1</td>\n",
       "      <td>0</td>\n",
       "      <td>Financeira</td>\n",
       "      <td>NaN</td>\n",
       "      <td>NaN</td>\n",
       "      <td>Nao Informada</td>\n",
       "    </tr>\n",
       "    <tr>\n",
       "      <th>1</th>\n",
       "      <td>2022-06-27 10:57:04</td>\n",
       "      <td>2021-12-01 13:18:11</td>\n",
       "      <td>Norte</td>\n",
       "      <td>PA</td>\n",
       "      <td>SEGUROS SURA S/A</td>\n",
       "      <td>1</td>\n",
       "      <td>0</td>\n",
       "      <td>Aparelho de Som ( Gravador, 3x1, CD )</td>\n",
       "      <td>Produto com vício</td>\n",
       "      <td>M</td>\n",
       "      <td>entre 21 a 30 anos</td>\n",
       "    </tr>\n",
       "    <tr>\n",
       "      <th>2</th>\n",
       "      <td>2022-06-06 10:39:02</td>\n",
       "      <td>2021-10-27 11:00:05</td>\n",
       "      <td>Norte</td>\n",
       "      <td>PA</td>\n",
       "      <td>TELEFÔNICA BRASIL S/A</td>\n",
       "      <td>1</td>\n",
       "      <td>1</td>\n",
       "      <td>Telefonia Fixa ( Plano de Expansão / Compra e ...</td>\n",
       "      <td>Cobrança indevida/abusiva</td>\n",
       "      <td>F</td>\n",
       "      <td>entre 61 a 70 anos</td>\n",
       "    </tr>\n",
       "    <tr>\n",
       "      <th>3</th>\n",
       "      <td>2022-01-05 11:21:09</td>\n",
       "      <td>2021-09-24 10:08:06</td>\n",
       "      <td>Norte</td>\n",
       "      <td>PA</td>\n",
       "      <td>BANCO MERCANTIL DO BRASIL S/A</td>\n",
       "      <td>1</td>\n",
       "      <td>1</td>\n",
       "      <td>Banco comercial</td>\n",
       "      <td>Crédito Consignado</td>\n",
       "      <td>F</td>\n",
       "      <td>entre 51 a 60 anos</td>\n",
       "    </tr>\n",
       "    <tr>\n",
       "      <th>4</th>\n",
       "      <td>2022-04-11 11:42:24</td>\n",
       "      <td>2019-08-28 14:28:51</td>\n",
       "      <td>Norte</td>\n",
       "      <td>TO</td>\n",
       "      <td>VIA VAREJO S/A</td>\n",
       "      <td>1</td>\n",
       "      <td>0</td>\n",
       "      <td>Acessório para Aparelho Eletrônico/Pilha/Elétr...</td>\n",
       "      <td>Produto com vício</td>\n",
       "      <td>F</td>\n",
       "      <td>entre 51 a 60 anos</td>\n",
       "    </tr>\n",
       "  </tbody>\n",
       "</table>\n",
       "</div>"
      ],
      "text/plain": [
       "     DataArquivamento        DataAbertura        Regiao  UF  \\\n",
       "0                 NaT                 NaT  Centro-oeste  MT   \n",
       "1 2022-06-27 10:57:04 2021-12-01 13:18:11         Norte  PA   \n",
       "2 2022-06-06 10:39:02 2021-10-27 11:00:05         Norte  PA   \n",
       "3 2022-01-05 11:21:09 2021-09-24 10:08:06         Norte  PA   \n",
       "4 2022-04-11 11:42:24 2019-08-28 14:28:51         Norte  TO   \n",
       "\n",
       "                  strRazaoSocial  Tipo Atendida  \\\n",
       "0                       BOOKPLAY     1        0   \n",
       "1               SEGUROS SURA S/A     1        0   \n",
       "2          TELEFÔNICA BRASIL S/A     1        1   \n",
       "3  BANCO MERCANTIL DO BRASIL S/A     1        1   \n",
       "4                 VIA VAREJO S/A     1        0   \n",
       "\n",
       "                                    DescricaoAssunto  \\\n",
       "0                                         Financeira   \n",
       "1              Aparelho de Som ( Gravador, 3x1, CD )   \n",
       "2  Telefonia Fixa ( Plano de Expansão / Compra e ...   \n",
       "3                                    Banco comercial   \n",
       "4  Acessório para Aparelho Eletrônico/Pilha/Elétr...   \n",
       "\n",
       "           DescricaoProblema SexoConsumidor FaixaEtariaConsumidor  \n",
       "0                        NaN            NaN         Nao Informada  \n",
       "1          Produto com vício              M    entre 21 a 30 anos  \n",
       "2  Cobrança indevida/abusiva              F    entre 61 a 70 anos  \n",
       "3         Crédito Consignado              F    entre 51 a 60 anos  \n",
       "4          Produto com vício              F    entre 51 a 60 anos  "
      ]
     },
     "execution_count": 74,
     "metadata": {},
     "output_type": "execute_result"
    }
   ],
   "source": [
    "complaints.drop(['AnoCalendario', 'CodigoRegiao', 'strNomeFantasia', \n",
    "                 'NumeroCNPJ', 'RadicalCNPJ', 'RazaoSocialRFB', 'NomeFantasiaRFB', \n",
    "                 'CNAEPrincipal', 'DescCNAEPrincipal', 'CodigoAssunto', 'CodigoProblema'\n",
    "                ], axis=1,inplace=True)\n",
    "\n",
    "pd.set_option('future.no_silent_downcasting', True)\n",
    "complaints['Atendida'] = complaints['Atendida'].replace({'S':1, 'N':0})\n",
    "\n",
    "complaints[['DataArquivamento', 'DataAbertura']] = complaints[['DataArquivamento', 'DataAbertura']].apply(pd.to_datetime)\n",
    "\n",
    "complaints.head()"
   ]
  },
  {
   "cell_type": "code",
   "execution_count": 75,
   "id": "ba7c365e",
   "metadata": {},
   "outputs": [
    {
     "name": "stdout",
     "output_type": "stream",
     "text": [
      "<class 'pandas.core.frame.DataFrame'>\n",
      "RangeIndex: 68289 entries, 0 to 68288\n",
      "Data columns (total 11 columns):\n",
      " #   Column                 Non-Null Count  Dtype         \n",
      "---  ------                 --------------  -----         \n",
      " 0   DataArquivamento       68286 non-null  datetime64[ns]\n",
      " 1   DataAbertura           68286 non-null  datetime64[ns]\n",
      " 2   Regiao                 68289 non-null  object        \n",
      " 3   UF                     68289 non-null  object        \n",
      " 4   strRazaoSocial         68289 non-null  object        \n",
      " 5   Tipo                   68289 non-null  int64         \n",
      " 6   Atendida               68289 non-null  object        \n",
      " 7   DescricaoAssunto       68289 non-null  object        \n",
      " 8   DescricaoProblema      68249 non-null  object        \n",
      " 9   SexoConsumidor         68275 non-null  object        \n",
      " 10  FaixaEtariaConsumidor  68289 non-null  object        \n",
      "dtypes: datetime64[ns](2), int64(1), object(8)\n",
      "memory usage: 5.7+ MB\n"
     ]
    }
   ],
   "source": [
    "complaints.info()"
   ]
  },
  {
   "cell_type": "markdown",
   "id": "6c665872",
   "metadata": {},
   "source": [
    "From info() we can observe that from a total of 68289 entries, 'DescricaoProblema' has 68249 non-null. 'SexoConsumidor', 'DataArquivamento' and 'DataAbertura' also have missing data.\n",
    "\n",
    "Below, we present the features with missing values along with the corresponding amount of missing data."
   ]
  },
  {
   "cell_type": "code",
   "execution_count": 76,
   "id": "77b8fb58",
   "metadata": {},
   "outputs": [
    {
     "data": {
      "text/plain": [
       "DataArquivamento          3\n",
       "DataAbertura              3\n",
       "Regiao                    0\n",
       "UF                        0\n",
       "strRazaoSocial            0\n",
       "Tipo                      0\n",
       "Atendida                  0\n",
       "DescricaoAssunto          0\n",
       "DescricaoProblema        40\n",
       "SexoConsumidor           14\n",
       "FaixaEtariaConsumidor     0\n",
       "dtype: int64"
      ]
     },
     "execution_count": 76,
     "metadata": {},
     "output_type": "execute_result"
    }
   ],
   "source": [
    "complaints.isnull().sum()"
   ]
  },
  {
   "cell_type": "code",
   "execution_count": 77,
   "id": "56934e87",
   "metadata": {},
   "outputs": [],
   "source": [
    "complaints.dropna(inplace=True)"
   ]
  },
  {
   "cell_type": "markdown",
   "id": "646469a6",
   "metadata": {},
   "source": [
    "The missing data represents less than 0,0005% of the data. For this reason, dropping them would be acceptable."
   ]
  },
  {
   "cell_type": "markdown",
   "id": "ab7b7e13",
   "metadata": {},
   "source": [
    "## Exploratory Data Analysis (EDA)"
   ]
  },
  {
   "cell_type": "markdown",
   "id": "be62e323",
   "metadata": {},
   "source": [
    "We will begin with the analysis of the categorical variables by using `.describe(include='object')`. This results in a table containing:\n",
    "\n",
    "* count: Total number of non-null values.\n",
    "\n",
    "* unique: Number of unique values in the column.\n",
    "\n",
    "* top: Most frequent value in the column.\n",
    "\n",
    "* freq: Frequency of the most common value.\n",
    "\n",
    "This method gives an idea of ​​the distribution of variables, helping with the choice of appropriate treatments, like normalization, transformation, etc."
   ]
  },
  {
   "cell_type": "code",
   "execution_count": 78,
   "id": "1feeb7ad",
   "metadata": {},
   "outputs": [
    {
     "data": {
      "text/html": [
       "<div>\n",
       "<style scoped>\n",
       "    .dataframe tbody tr th:only-of-type {\n",
       "        vertical-align: middle;\n",
       "    }\n",
       "\n",
       "    .dataframe tbody tr th {\n",
       "        vertical-align: top;\n",
       "    }\n",
       "\n",
       "    .dataframe thead th {\n",
       "        text-align: right;\n",
       "    }\n",
       "</style>\n",
       "<table border=\"1\" class=\"dataframe\">\n",
       "  <thead>\n",
       "    <tr style=\"text-align: right;\">\n",
       "      <th></th>\n",
       "      <th>Regiao</th>\n",
       "      <th>UF</th>\n",
       "      <th>strRazaoSocial</th>\n",
       "      <th>Atendida</th>\n",
       "      <th>DescricaoAssunto</th>\n",
       "      <th>DescricaoProblema</th>\n",
       "      <th>SexoConsumidor</th>\n",
       "      <th>FaixaEtariaConsumidor</th>\n",
       "    </tr>\n",
       "  </thead>\n",
       "  <tbody>\n",
       "    <tr>\n",
       "      <th>count</th>\n",
       "      <td>68239</td>\n",
       "      <td>68239</td>\n",
       "      <td>68239</td>\n",
       "      <td>68239</td>\n",
       "      <td>68239</td>\n",
       "      <td>68239</td>\n",
       "      <td>68239</td>\n",
       "      <td>68239</td>\n",
       "    </tr>\n",
       "    <tr>\n",
       "      <th>unique</th>\n",
       "      <td>5</td>\n",
       "      <td>17</td>\n",
       "      <td>18942</td>\n",
       "      <td>2</td>\n",
       "      <td>218</td>\n",
       "      <td>186</td>\n",
       "      <td>3</td>\n",
       "      <td>8</td>\n",
       "    </tr>\n",
       "    <tr>\n",
       "      <th>top</th>\n",
       "      <td>Centro-oeste</td>\n",
       "      <td>CE</td>\n",
       "      <td>ENERGISA MATO GROSSO -DISTRIBUIDORA DE ENERGIA...</td>\n",
       "      <td>0</td>\n",
       "      <td>Banco comercial</td>\n",
       "      <td>Cobrança indevida.</td>\n",
       "      <td>F</td>\n",
       "      <td>entre 31 a 40 anos</td>\n",
       "    </tr>\n",
       "    <tr>\n",
       "      <th>freq</th>\n",
       "      <td>23304</td>\n",
       "      <td>18469</td>\n",
       "      <td>1114</td>\n",
       "      <td>36698</td>\n",
       "      <td>7331</td>\n",
       "      <td>8984</td>\n",
       "      <td>33959</td>\n",
       "      <td>12785</td>\n",
       "    </tr>\n",
       "  </tbody>\n",
       "</table>\n",
       "</div>"
      ],
      "text/plain": [
       "              Regiao     UF  \\\n",
       "count          68239  68239   \n",
       "unique             5     17   \n",
       "top     Centro-oeste     CE   \n",
       "freq           23304  18469   \n",
       "\n",
       "                                           strRazaoSocial  Atendida  \\\n",
       "count                                               68239     68239   \n",
       "unique                                              18942         2   \n",
       "top     ENERGISA MATO GROSSO -DISTRIBUIDORA DE ENERGIA...         0   \n",
       "freq                                                 1114     36698   \n",
       "\n",
       "       DescricaoAssunto   DescricaoProblema SexoConsumidor  \\\n",
       "count             68239               68239          68239   \n",
       "unique              218                 186              3   \n",
       "top     Banco comercial  Cobrança indevida.              F   \n",
       "freq               7331                8984          33959   \n",
       "\n",
       "       FaixaEtariaConsumidor  \n",
       "count                  68239  \n",
       "unique                     8  \n",
       "top       entre 31 a 40 anos  \n",
       "freq                   12785  "
      ]
     },
     "execution_count": 78,
     "metadata": {},
     "output_type": "execute_result"
    }
   ],
   "source": [
    "complaints.describe(include='object')"
   ]
  },
  {
   "cell_type": "markdown",
   "id": "c3e7b3a1",
   "metadata": {},
   "source": [
    "* The features 'Regiao' and 'UF' indicate that the most common geographic region for complaints is Centro-Oeste, with the state CE (Ceará) being the most frequently reported.\n",
    "\n",
    "* The company with highest number of occurrences is ENERGISA MATO GROSSO.\n",
    "\n",
    "* The top complaint problem is Cobrança indevida, which stands for incorrect or improper billing.\n",
    "\n",
    "* The subject with the highest occurrence is banco comercial (commercial bank).\n",
    "\n",
    "* The majority of consumers filing complaints are female, predominantly in the 31 to 40 years old age range.\n",
    "\n",
    "* Most complaints remain unresolved.\n"
   ]
  },
  {
   "cell_type": "markdown",
   "id": "dadacdb8",
   "metadata": {},
   "source": [
    "### Resolved vs Unresolved Complaints:\n",
    "\n",
    "Now, we will analyze the distribution of resolved versus unresolved complaints across various features, where '0' stands for 'No', and '1' for 'Yes'.\n",
    "\n",
    "#### Counts"
   ]
  },
  {
   "cell_type": "code",
   "execution_count": 79,
   "id": "27f56ff6",
   "metadata": {},
   "outputs": [
    {
     "data": {
      "text/plain": [
       "Text(0.5, 1.0, 'Distribution of Resolved vs Unresolved Complaints')"
      ]
     },
     "execution_count": 79,
     "metadata": {},
     "output_type": "execute_result"
    },
    {
     "data": {
      "image/png": "[encoded data removed]",
      "text/plain": [
       "<Figure size 640x480 with 1 Axes>"
      ]
     },
     "metadata": {},
     "output_type": "display_data"
    }
   ],
   "source": [
    "sns.countplot(complaints, x='Atendida', hue='Atendida', palette='BuPu', legend=True)\n",
    "plt.title('Distribution of Resolved vs Unresolved Complaints')"
   ]
  },
  {
   "cell_type": "markdown",
   "id": "82f2d4e3",
   "metadata": {},
   "source": [
    "We can observe that a larger number of complaints were not resolved compared to those that were. This suggests that a significant portion of customer issues remained unresolved, which may indicate inefficiencies in customer service or a lack of responsiveness from companies."
   ]
  },
  {
   "cell_type": "markdown",
   "id": "da57474d",
   "metadata": {},
   "source": [
    "#### Customer's Sex\n",
    "\n",
    "Let’s examine how complaints classified as Resolved or Unresolved are distributed according to the customer’s sex."
   ]
  },
  {
   "cell_type": "code",
   "execution_count": 80,
   "id": "755fc9f8",
   "metadata": {},
   "outputs": [
    {
     "data": {
      "text/plain": [
       "<Axes: xlabel='SexoConsumidor', ylabel='count'>"
      ]
     },
     "execution_count": 80,
     "metadata": {},
     "output_type": "execute_result"
    },
    {
     "data": {
      "image/png": "[encoded data removed]",
      "text/plain": [
       "<Figure size 640x480 with 1 Axes>"
      ]
     },
     "metadata": {},
     "output_type": "display_data"
    }
   ],
   "source": [
    "sns.countplot(complaints, x='SexoConsumidor', hue='Atendida', palette='BuPu', legend=True)"
   ]
  },
  {
   "cell_type": "markdown",
   "id": "354fb5f8",
   "metadata": {},
   "source": [
    "The chart displays the distribution of complaints categorized by customer sex (SexoConsumidor) and whether the complaint was resolved (1) or unresolved (0):\n",
    "\n",
    "* Male consumers (M) submitted the highest number of complaints overall. However, a significant portion of these complaints was unresolved.\n",
    "\n",
    "* Female consumers (F) also submitted a large number of complaints, with a slightly higher rate of resolved cases compared to males.\n",
    "\n",
    "* Complaints marked with N (\"Not applicable\") are much fewer, and the majority of them were unresolved.\n",
    "\n",
    "This suggests that while both male and female consumers experience unresolved issues, female complaints tend to be resolved slightly more often than male ones."
   ]
  },
  {
   "cell_type": "markdown",
   "id": "f1f30114",
   "metadata": {},
   "source": [
    "#### Age Range\n",
    "\n",
    "The chart shows how complaints are distributed across different age ranges and whether they were resolved (1) or unresolved (0):\n",
    "\n",
    "* The age group 31 to 40 years old has the highest number of complaints overall, with a noticeable gap between unresolved and resolved cases, with most complaints in this group were not resolved.\n",
    "\n",
    "* Other highly represented age groups include 41 to 50, 51 to 60, and 61 to 70 years old, with relatively balanced levels of resolved and unresolved complaints.\n",
    "\n",
    "* Consumers over 70 and under 20 submitted fewer complaints, but most still tended to be unresolved.\n",
    "\n",
    "* A significant number of complaints fall under the “Not applicable” category for age, where unresolved cases are clearly more prevalent.\n",
    "\n",
    "This suggests that while people in their 30s are the most active in filing complaints, they also experience the highest rate of unresolved issues.\n",
    "\n"
   ]
  },
  {
   "cell_type": "code",
   "execution_count": 81,
   "id": "c0014582",
   "metadata": {},
   "outputs": [
    {
     "data": {
      "text/plain": [
       "<Axes: xlabel='FaixaEtariaConsumidor', ylabel='count'>"
      ]
     },
     "execution_count": 81,
     "metadata": {},
     "output_type": "execute_result"
    },
    {
     "data": {
      "image/png": "[encoded data removed]",
      "text/plain": [
       "<Figure size 1500x500 with 1 Axes>"
      ]
     },
     "metadata": {},
     "output_type": "display_data"
    }
   ],
   "source": [
    "plt.figure(figsize=(15,5))\n",
    "sns.countplot(complaints, x='FaixaEtariaConsumidor', hue='Atendida', palette='BuPu', legend=True)"
   ]
  },
  {
   "cell_type": "markdown",
   "id": "d83b01ff",
   "metadata": {},
   "source": [
    "#### Region\n",
    "\n",
    "The chart shows the distribution of complaints across Brazil’s geographic regions\n",
    "\n",
    "* The Centro-Oeste region has the highest number of complaints overall, with a considerable gap where many complaints remain unresolved.\n",
    "\n",
    "* The Nordeste region also shows a high volume of complaints, with a similar pattern: more complaints are unresolved than resolved.\n",
    "\n",
    "* In the Sudeste and Sul regions, the total number of complaints is lower, and the difference between resolved and unresolved complaints is also smaller, though unresolved cases still lead.\n",
    "\n",
    "* Interestingly, the Norte region is the only one where resolved complaints outnumber unresolved ones, despite having the fewest total complaints.\n",
    "\n",
    "This suggests that Centro-Oeste and Nordeste are the most critical regions in terms of volume and service response issues, while the Norte shows relatively better responsiveness."
   ]
  },
  {
   "cell_type": "code",
   "execution_count": 82,
   "id": "701143c9",
   "metadata": {},
   "outputs": [
    {
     "data": {
      "text/plain": [
       "<Axes: xlabel='Regiao', ylabel='count'>"
      ]
     },
     "execution_count": 82,
     "metadata": {},
     "output_type": "execute_result"
    },
    {
     "data": {
      "image/png": "[encoded data removed]",
      "text/plain": [
       "<Figure size 640x480 with 1 Axes>"
      ]
     },
     "metadata": {},
     "output_type": "display_data"
    }
   ],
   "source": [
    "sns.countplot(complaints, x='Regiao', hue='Atendida', palette='BuPu', legend=True)"
   ]
  },
  {
   "cell_type": "markdown",
   "id": "e2fe73ec",
   "metadata": {},
   "source": [
    "We can see below the most frequent problem descriptions (DescricaoProblema) along with the companies most commonly associated with each issue."
   ]
  },
  {
   "cell_type": "code",
   "execution_count": 83,
   "id": "27af882e",
   "metadata": {},
   "outputs": [
    {
     "data": {
      "text/html": [
       "<div>\n",
       "<style scoped>\n",
       "    .dataframe tbody tr th:only-of-type {\n",
       "        vertical-align: middle;\n",
       "    }\n",
       "\n",
       "    .dataframe tbody tr th {\n",
       "        vertical-align: top;\n",
       "    }\n",
       "\n",
       "    .dataframe thead th {\n",
       "        text-align: right;\n",
       "    }\n",
       "</style>\n",
       "<table border=\"1\" class=\"dataframe\">\n",
       "  <thead>\n",
       "    <tr style=\"text-align: right;\">\n",
       "      <th></th>\n",
       "      <th>Regiao</th>\n",
       "      <th>DescricaoProblema</th>\n",
       "      <th>strRazaoSocial</th>\n",
       "      <th>Count</th>\n",
       "    </tr>\n",
       "  </thead>\n",
       "  <tbody>\n",
       "    <tr>\n",
       "      <th>1564</th>\n",
       "      <td>Centro-oeste</td>\n",
       "      <td>Cobrança indevida/abusiva</td>\n",
       "      <td>ENERGISA MATO GROSSO -DISTRIBUIDORA DE ENERGIA...</td>\n",
       "      <td>985</td>\n",
       "    </tr>\n",
       "    <tr>\n",
       "      <th>1368</th>\n",
       "      <td>Centro-oeste</td>\n",
       "      <td>Cobrança indevida/abusiva</td>\n",
       "      <td>AGUAS CUIABA S.A. CONCES. SERV. PUB. AGUA E ES...</td>\n",
       "      <td>250</td>\n",
       "    </tr>\n",
       "    <tr>\n",
       "      <th>8487</th>\n",
       "      <td>Centro-oeste</td>\n",
       "      <td>Produto com vício</td>\n",
       "      <td>SAMSUNG ELETRONICA DA AMAZONIA LTDA</td>\n",
       "      <td>129</td>\n",
       "    </tr>\n",
       "    <tr>\n",
       "      <th>1742</th>\n",
       "      <td>Centro-oeste</td>\n",
       "      <td>Cobrança indevida/abusiva</td>\n",
       "      <td>OI S/A</td>\n",
       "      <td>115</td>\n",
       "    </tr>\n",
       "    <tr>\n",
       "      <th>1571</th>\n",
       "      <td>Centro-oeste</td>\n",
       "      <td>Cobrança indevida/abusiva</td>\n",
       "      <td>ENERGISA MATO GROSSO-DISTRIBUIDORA DE ENERGIA S/A</td>\n",
       "      <td>102</td>\n",
       "    </tr>\n",
       "  </tbody>\n",
       "</table>\n",
       "</div>"
      ],
      "text/plain": [
       "            Regiao          DescricaoProblema  \\\n",
       "1564  Centro-oeste  Cobrança indevida/abusiva   \n",
       "1368  Centro-oeste  Cobrança indevida/abusiva   \n",
       "8487  Centro-oeste          Produto com vício   \n",
       "1742  Centro-oeste  Cobrança indevida/abusiva   \n",
       "1571  Centro-oeste  Cobrança indevida/abusiva   \n",
       "\n",
       "                                         strRazaoSocial  Count  \n",
       "1564  ENERGISA MATO GROSSO -DISTRIBUIDORA DE ENERGIA...    985  \n",
       "1368  AGUAS CUIABA S.A. CONCES. SERV. PUB. AGUA E ES...    250  \n",
       "8487                SAMSUNG ELETRONICA DA AMAZONIA LTDA    129  \n",
       "1742                                             OI S/A    115  \n",
       "1571  ENERGISA MATO GROSSO-DISTRIBUIDORA DE ENERGIA S/A    102  "
      ]
     },
     "execution_count": 83,
     "metadata": {},
     "output_type": "execute_result"
    }
   ],
   "source": [
    "main_complaints_by_region = complaints.groupby(['Regiao','DescricaoProblema','strRazaoSocial']).size().reset_index(name='Count')\n",
    "main_complaints_by_region = main_complaints_by_region[main_complaints_by_region['Regiao']=='Centro-oeste'].sort_values('Count', ascending=False)\n",
    "main_complaints_by_region.head(5)"
   ]
  },
  {
   "cell_type": "code",
   "execution_count": 84,
   "id": "52ddef36",
   "metadata": {},
   "outputs": [
    {
     "data": {
      "text/html": [
       "<div>\n",
       "<style scoped>\n",
       "    .dataframe tbody tr th:only-of-type {\n",
       "        vertical-align: middle;\n",
       "    }\n",
       "\n",
       "    .dataframe tbody tr th {\n",
       "        vertical-align: top;\n",
       "    }\n",
       "\n",
       "    .dataframe thead th {\n",
       "        text-align: right;\n",
       "    }\n",
       "</style>\n",
       "<table border=\"1\" class=\"dataframe\">\n",
       "  <thead>\n",
       "    <tr style=\"text-align: right;\">\n",
       "      <th></th>\n",
       "      <th>Regiao</th>\n",
       "      <th>DescricaoProblema</th>\n",
       "      <th>strRazaoSocial</th>\n",
       "      <th>Count</th>\n",
       "    </tr>\n",
       "  </thead>\n",
       "  <tbody>\n",
       "    <tr>\n",
       "      <th>14574</th>\n",
       "      <td>Nordeste</td>\n",
       "      <td>Cobrança indevida/abusiva</td>\n",
       "      <td>CAGECE</td>\n",
       "      <td>470</td>\n",
       "    </tr>\n",
       "    <tr>\n",
       "      <th>14816</th>\n",
       "      <td>Nordeste</td>\n",
       "      <td>Cobrança indevida/abusiva</td>\n",
       "      <td>OI MOVEL S/A</td>\n",
       "      <td>407</td>\n",
       "    </tr>\n",
       "    <tr>\n",
       "      <th>14622</th>\n",
       "      <td>Nordeste</td>\n",
       "      <td>Cobrança indevida/abusiva</td>\n",
       "      <td>COMPANHIA ENERGETICA DO CEARÁ</td>\n",
       "      <td>401</td>\n",
       "    </tr>\n",
       "    <tr>\n",
       "      <th>19961</th>\n",
       "      <td>Nordeste</td>\n",
       "      <td>Produto com vício</td>\n",
       "      <td>SAMSUNG ELETRONICA DA AMAZONIA LTDA</td>\n",
       "      <td>234</td>\n",
       "    </tr>\n",
       "    <tr>\n",
       "      <th>14617</th>\n",
       "      <td>Nordeste</td>\n",
       "      <td>Cobrança indevida/abusiva</td>\n",
       "      <td>COMPANHIA DE AGUA E ESGOTO DO CEARA</td>\n",
       "      <td>200</td>\n",
       "    </tr>\n",
       "  </tbody>\n",
       "</table>\n",
       "</div>"
      ],
      "text/plain": [
       "         Regiao          DescricaoProblema  \\\n",
       "14574  Nordeste  Cobrança indevida/abusiva   \n",
       "14816  Nordeste  Cobrança indevida/abusiva   \n",
       "14622  Nordeste  Cobrança indevida/abusiva   \n",
       "19961  Nordeste          Produto com vício   \n",
       "14617  Nordeste  Cobrança indevida/abusiva   \n",
       "\n",
       "                            strRazaoSocial  Count  \n",
       "14574                               CAGECE    470  \n",
       "14816                         OI MOVEL S/A    407  \n",
       "14622        COMPANHIA ENERGETICA DO CEARÁ    401  \n",
       "19961  SAMSUNG ELETRONICA DA AMAZONIA LTDA    234  \n",
       "14617  COMPANHIA DE AGUA E ESGOTO DO CEARA    200  "
      ]
     },
     "execution_count": 84,
     "metadata": {},
     "output_type": "execute_result"
    }
   ],
   "source": [
    "main_complaints_by_region = complaints.groupby(['Regiao','DescricaoProblema','strRazaoSocial']).size().reset_index(name='Count')\n",
    "main_complaints_by_region = main_complaints_by_region[main_complaints_by_region['Regiao']=='Nordeste'].sort_values('Count', ascending=False)\n",
    "main_complaints_by_region.head(5)"
   ]
  },
  {
   "cell_type": "code",
   "execution_count": 85,
   "id": "ca19e5b7",
   "metadata": {},
   "outputs": [
    {
     "data": {
      "text/html": [
       "<div>\n",
       "<style scoped>\n",
       "    .dataframe tbody tr th:only-of-type {\n",
       "        vertical-align: middle;\n",
       "    }\n",
       "\n",
       "    .dataframe tbody tr th {\n",
       "        vertical-align: top;\n",
       "    }\n",
       "\n",
       "    .dataframe thead th {\n",
       "        text-align: right;\n",
       "    }\n",
       "</style>\n",
       "<table border=\"1\" class=\"dataframe\">\n",
       "  <thead>\n",
       "    <tr style=\"text-align: right;\">\n",
       "      <th></th>\n",
       "      <th>Regiao</th>\n",
       "      <th>DescricaoProblema</th>\n",
       "      <th>strRazaoSocial</th>\n",
       "      <th>Count</th>\n",
       "    </tr>\n",
       "  </thead>\n",
       "  <tbody>\n",
       "    <tr>\n",
       "      <th>25872</th>\n",
       "      <td>Sudeste</td>\n",
       "      <td>Cobrança indevida/abusiva</td>\n",
       "      <td>OI S.A. - EM RECUPERACAO JUDICIAL</td>\n",
       "      <td>122</td>\n",
       "    </tr>\n",
       "    <tr>\n",
       "      <th>25756</th>\n",
       "      <td>Sudeste</td>\n",
       "      <td>Cobrança indevida/abusiva</td>\n",
       "      <td>CLARO S.A.</td>\n",
       "      <td>82</td>\n",
       "    </tr>\n",
       "    <tr>\n",
       "      <th>28753</th>\n",
       "      <td>Sudeste</td>\n",
       "      <td>Produto com vício</td>\n",
       "      <td>SAMSUNG ELETRONICA DA AMAZONIA LTDA</td>\n",
       "      <td>80</td>\n",
       "    </tr>\n",
       "    <tr>\n",
       "      <th>26894</th>\n",
       "      <td>Sudeste</td>\n",
       "      <td>Crédito Consignado</td>\n",
       "      <td>BANCO PAN S/A</td>\n",
       "      <td>79</td>\n",
       "    </tr>\n",
       "    <tr>\n",
       "      <th>26840</th>\n",
       "      <td>Sudeste</td>\n",
       "      <td>Crédito Consignado</td>\n",
       "      <td>BANCO BMG S/A</td>\n",
       "      <td>69</td>\n",
       "    </tr>\n",
       "  </tbody>\n",
       "</table>\n",
       "</div>"
      ],
      "text/plain": [
       "        Regiao          DescricaoProblema  \\\n",
       "25872  Sudeste  Cobrança indevida/abusiva   \n",
       "25756  Sudeste  Cobrança indevida/abusiva   \n",
       "28753  Sudeste          Produto com vício   \n",
       "26894  Sudeste         Crédito Consignado   \n",
       "26840  Sudeste         Crédito Consignado   \n",
       "\n",
       "                            strRazaoSocial  Count  \n",
       "25872    OI S.A. - EM RECUPERACAO JUDICIAL    122  \n",
       "25756                           CLARO S.A.     82  \n",
       "28753  SAMSUNG ELETRONICA DA AMAZONIA LTDA     80  \n",
       "26894                        BANCO PAN S/A     79  \n",
       "26840                        BANCO BMG S/A     69  "
      ]
     },
     "execution_count": 85,
     "metadata": {},
     "output_type": "execute_result"
    }
   ],
   "source": [
    "main_complaints_by_region = complaints.groupby(['Regiao','DescricaoProblema','strRazaoSocial']).size().reset_index(name='Count')\n",
    "main_complaints_by_region = main_complaints_by_region[main_complaints_by_region['Regiao']=='Sudeste'].sort_values('Count', ascending=False)\n",
    "main_complaints_by_region.head(5)"
   ]
  },
  {
   "cell_type": "code",
   "execution_count": 86,
   "id": "09fa4e51",
   "metadata": {},
   "outputs": [
    {
     "data": {
      "text/html": [
       "<div>\n",
       "<style scoped>\n",
       "    .dataframe tbody tr th:only-of-type {\n",
       "        vertical-align: middle;\n",
       "    }\n",
       "\n",
       "    .dataframe tbody tr th {\n",
       "        vertical-align: top;\n",
       "    }\n",
       "\n",
       "    .dataframe thead th {\n",
       "        text-align: right;\n",
       "    }\n",
       "</style>\n",
       "<table border=\"1\" class=\"dataframe\">\n",
       "  <thead>\n",
       "    <tr style=\"text-align: right;\">\n",
       "      <th></th>\n",
       "      <th>Regiao</th>\n",
       "      <th>DescricaoProblema</th>\n",
       "      <th>strRazaoSocial</th>\n",
       "      <th>Count</th>\n",
       "    </tr>\n",
       "  </thead>\n",
       "  <tbody>\n",
       "    <tr>\n",
       "      <th>32086</th>\n",
       "      <td>Sul</td>\n",
       "      <td>Crédito Consignado</td>\n",
       "      <td>BANCO PAN S.A. - CIP</td>\n",
       "      <td>122</td>\n",
       "    </tr>\n",
       "    <tr>\n",
       "      <th>32045</th>\n",
       "      <td>Sul</td>\n",
       "      <td>Crédito Consignado</td>\n",
       "      <td>BANCO BMG SA - CIP</td>\n",
       "      <td>61</td>\n",
       "    </tr>\n",
       "    <tr>\n",
       "      <th>34171</th>\n",
       "      <td>Sul</td>\n",
       "      <td>Produto com vício</td>\n",
       "      <td>SAMSUNG ELETRONICA DA AMAZONIA LTDA</td>\n",
       "      <td>60</td>\n",
       "    </tr>\n",
       "    <tr>\n",
       "      <th>32058</th>\n",
       "      <td>Sul</td>\n",
       "      <td>Crédito Consignado</td>\n",
       "      <td>BANCO C6 CONSIGNADO S.A.</td>\n",
       "      <td>47</td>\n",
       "    </tr>\n",
       "    <tr>\n",
       "      <th>31229</th>\n",
       "      <td>Sul</td>\n",
       "      <td>Cobrança indevida/abusiva</td>\n",
       "      <td>OI MÓVEL S.A</td>\n",
       "      <td>41</td>\n",
       "    </tr>\n",
       "  </tbody>\n",
       "</table>\n",
       "</div>"
      ],
      "text/plain": [
       "      Regiao          DescricaoProblema                       strRazaoSocial  \\\n",
       "32086    Sul         Crédito Consignado                 BANCO PAN S.A. - CIP   \n",
       "32045    Sul         Crédito Consignado                   BANCO BMG SA - CIP   \n",
       "34171    Sul          Produto com vício  SAMSUNG ELETRONICA DA AMAZONIA LTDA   \n",
       "32058    Sul         Crédito Consignado             BANCO C6 CONSIGNADO S.A.   \n",
       "31229    Sul  Cobrança indevida/abusiva                         OI MÓVEL S.A   \n",
       "\n",
       "       Count  \n",
       "32086    122  \n",
       "32045     61  \n",
       "34171     60  \n",
       "32058     47  \n",
       "31229     41  "
      ]
     },
     "execution_count": 86,
     "metadata": {},
     "output_type": "execute_result"
    }
   ],
   "source": [
    "main_complaints_by_region = complaints.groupby(['Regiao','DescricaoProblema','strRazaoSocial']).size().reset_index(name='Count')\n",
    "main_complaints_by_region = main_complaints_by_region[main_complaints_by_region['Regiao']=='Sul'].sort_values('Count', ascending=False)\n",
    "main_complaints_by_region.head(5)"
   ]
  },
  {
   "cell_type": "code",
   "execution_count": 87,
   "id": "b61ef40a",
   "metadata": {},
   "outputs": [
    {
     "data": {
      "text/html": [
       "<div>\n",
       "<style scoped>\n",
       "    .dataframe tbody tr th:only-of-type {\n",
       "        vertical-align: middle;\n",
       "    }\n",
       "\n",
       "    .dataframe tbody tr th {\n",
       "        vertical-align: top;\n",
       "    }\n",
       "\n",
       "    .dataframe thead th {\n",
       "        text-align: right;\n",
       "    }\n",
       "</style>\n",
       "<table border=\"1\" class=\"dataframe\">\n",
       "  <thead>\n",
       "    <tr style=\"text-align: right;\">\n",
       "      <th></th>\n",
       "      <th>Regiao</th>\n",
       "      <th>DescricaoProblema</th>\n",
       "      <th>strRazaoSocial</th>\n",
       "      <th>Count</th>\n",
       "    </tr>\n",
       "  </thead>\n",
       "  <tbody>\n",
       "    <tr>\n",
       "      <th>23049</th>\n",
       "      <td>Norte</td>\n",
       "      <td>Cobrança indevida/abusiva</td>\n",
       "      <td>COMPANHIA DE SANEAMENTO DO PARÁ</td>\n",
       "      <td>71</td>\n",
       "    </tr>\n",
       "    <tr>\n",
       "      <th>23026</th>\n",
       "      <td>Norte</td>\n",
       "      <td>Cobrança indevida/abusiva</td>\n",
       "      <td>14 BRASIL TELECOM CELULAR S/A</td>\n",
       "      <td>51</td>\n",
       "    </tr>\n",
       "    <tr>\n",
       "      <th>23050</th>\n",
       "      <td>Norte</td>\n",
       "      <td>Cobrança indevida/abusiva</td>\n",
       "      <td>COMPANHIA DE SANEAMENTO DO TOCANTINS</td>\n",
       "      <td>39</td>\n",
       "    </tr>\n",
       "    <tr>\n",
       "      <th>23840</th>\n",
       "      <td>Norte</td>\n",
       "      <td>Garantia (Abrangência, cobertura, etc.)</td>\n",
       "      <td>NOSSO LAR LOJAS DE DEPARTAMENTO LTDA</td>\n",
       "      <td>38</td>\n",
       "    </tr>\n",
       "    <tr>\n",
       "      <th>23978</th>\n",
       "      <td>Norte</td>\n",
       "      <td>Não entrega do produto (titulo de capitalizaçã...</td>\n",
       "      <td>CONSÓRCIO NACIONAL HONDA LTDA</td>\n",
       "      <td>36</td>\n",
       "    </tr>\n",
       "  </tbody>\n",
       "</table>\n",
       "</div>"
      ],
      "text/plain": [
       "      Regiao                                  DescricaoProblema  \\\n",
       "23049  Norte                          Cobrança indevida/abusiva   \n",
       "23026  Norte                          Cobrança indevida/abusiva   \n",
       "23050  Norte                          Cobrança indevida/abusiva   \n",
       "23840  Norte            Garantia (Abrangência, cobertura, etc.)   \n",
       "23978  Norte  Não entrega do produto (titulo de capitalizaçã...   \n",
       "\n",
       "                             strRazaoSocial  Count  \n",
       "23049       COMPANHIA DE SANEAMENTO DO PARÁ     71  \n",
       "23026         14 BRASIL TELECOM CELULAR S/A     51  \n",
       "23050  COMPANHIA DE SANEAMENTO DO TOCANTINS     39  \n",
       "23840  NOSSO LAR LOJAS DE DEPARTAMENTO LTDA     38  \n",
       "23978         CONSÓRCIO NACIONAL HONDA LTDA     36  "
      ]
     },
     "execution_count": 87,
     "metadata": {},
     "output_type": "execute_result"
    }
   ],
   "source": [
    "main_complaints_by_region = complaints.groupby(['Regiao','DescricaoProblema','strRazaoSocial']).size().reset_index(name='Count')\n",
    "main_complaints_by_region = main_complaints_by_region[main_complaints_by_region['Regiao']=='Norte'].sort_values('Count', ascending=False)\n",
    "main_complaints_by_region.head(5)"
   ]
  },
  {
   "cell_type": "markdown",
   "id": "88612d27",
   "metadata": {},
   "source": [
    "We can see that the most frequent complaints are related to improper billing, with ENERGISA MATO GROSSO standing out as the company with the highest number of cases (985 complaints)."
   ]
  },
  {
   "cell_type": "markdown",
   "id": "bd9e9154",
   "metadata": {},
   "source": [
    "### Top Companies with Most Complaints\n",
    "\n",
    "We can see below the top 20 companies with highest number of complaints"
   ]
  },
  {
   "cell_type": "code",
   "execution_count": 88,
   "id": "794e1700",
   "metadata": {},
   "outputs": [
    {
     "data": {
      "text/plain": [
       "strRazaoSocial\n",
       "ENERGISA MATO GROSSO -DISTRIBUIDORA DE ENERGIA S.A    1114\n",
       "OI MOVEL S/A                                           780\n",
       "SAMSUNG ELETRONICA DA AMAZONIA LTDA                    747\n",
       "CAIXA ECONOMICA FEDERAL                                696\n",
       "COMPANHIA ENERGETICA DO CEARÁ                          657\n",
       "CAGECE                                                 624\n",
       "CLARO S/A                                              596\n",
       "BANCO SANTANDER (BRASIL) S.A.                          482\n",
       "MAGAZINE LUIZA S/A                                     411\n",
       "BANCO BMG SA                                           396\n",
       "BANCO BRADESCO SA                                      391\n",
       "BANCO BRADESCO S.A.                                    341\n",
       "BANCO BRADESCARD S.A.                                  324\n",
       "CLARO S.A.                                             314\n",
       "BANCO BMG S/A                                          310\n",
       "BANCO PAN S.A.                                         302\n",
       "BANCO DO BRASIL S.A                                    298\n",
       "TIM CELULAR S.A.                                       292\n",
       "COMPANHIA ENERGÉTICA DO CEARÁ                          287\n",
       "MERCADOPAGO.COM REPRESENTACOES LTDA.                   280\n",
       "Name: count, dtype: int64"
      ]
     },
     "execution_count": 88,
     "metadata": {},
     "output_type": "execute_result"
    }
   ],
   "source": [
    "# Companies and its complaints counts \n",
    "complaints['strRazaoSocial'].value_counts().head(20)"
   ]
  },
  {
   "cell_type": "markdown",
   "id": "9325a09c",
   "metadata": {},
   "source": [
    "We can notice that BANCO BRADESCO SA and BANCO BRADESCO S.A. refer to the same company, but were counted separately due to formatting differences in the company name.\n",
    "\n",
    "To address this inconsistency, we applied a transformation to standardize the names by replacing \"SA\" with \"S.A.\" using the following line of code:"
   ]
  },
  {
   "cell_type": "code",
   "execution_count": 89,
   "id": "6ae0977a",
   "metadata": {},
   "outputs": [
    {
     "data": {
      "image/png": "[encoded data removed]",
      "text/plain": [
       "<Figure size 800x500 with 1 Axes>"
      ]
     },
     "metadata": {},
     "output_type": "display_data"
    }
   ],
   "source": [
    "complaints['strRazaoSocial'] = complaints['strRazaoSocial'].str.replace(r'\\bSA\\b', 'S.A.', regex=True)\n",
    "\n",
    "top_companies = complaints['strRazaoSocial'].value_counts().head(10)\n",
    "\n",
    "plt.figure(figsize=(8,5))\n",
    "sns.barplot(x=top_companies.values, y=top_companies.index, hue=top_companies.index, palette='viridis', legend=False)\n",
    "plt.title(\"Top 10 Companies with Most Complaints\")\n",
    "plt.xlabel(\"Number of Complaints\")\n",
    "plt.show()"
   ]
  },
  {
   "cell_type": "markdown",
   "id": "3c58ef8e",
   "metadata": {},
   "source": [
    "#### Time in Months between Opening and Filing Date \n",
    "\n",
    "To analyze how long it takes for complaints to be officially filed after being opened, we can create a new feature called Tempo em Meses (Time in Months). This is calculated using the difference in months between the opening date (DataAbertura) and the filing date (DataArquivamento)"
   ]
  },
  {
   "cell_type": "code",
   "execution_count": 90,
   "id": "a06ff915",
   "metadata": {},
   "outputs": [],
   "source": [
    "complaints['Tempo em Meses'] = (complaints['DataArquivamento'].dt.year - complaints['DataAbertura'].dt.year) * 12 + (complaints['DataArquivamento'].dt.month - complaints['DataAbertura'].dt.month)"
   ]
  },
  {
   "cell_type": "markdown",
   "id": "7476055c",
   "metadata": {},
   "source": [
    "We then filter the data to include only complaints that took 96 months (8 years) or less to be filed, in order to focus on more realistic time frames"
   ]
  },
  {
   "cell_type": "code",
   "execution_count": 91,
   "id": "8fe1834a",
   "metadata": {},
   "outputs": [
    {
     "data": {
      "image/png": "[encoded data removed]",
      "text/plain": [
       "<Figure size 2000x500 with 1 Axes>"
      ]
     },
     "metadata": {},
     "output_type": "display_data"
    }
   ],
   "source": [
    "filtered_complaints = complaints[complaints['Tempo em Meses'] <=96]\n",
    "\n",
    "plt.figure(figsize=(20,5))\n",
    "sns.countplot(filtered_complaints, x='Tempo em Meses', hue='Atendida', dodge=False, palette='BuPu', legend=True) \n",
    "plt.tight_layout()"
   ]
  },
  {
   "cell_type": "markdown",
   "id": "a776aa9d",
   "metadata": {},
   "source": [
    "As we can see:\n",
    "\n",
    "* Most complaints are filed within the first 3 months after being opened. These early filings are also the ones with the highest attendance rate.\n",
    "\n",
    "* After month 3, the number of filings drops sharply, and the number of unresolved cases become higher than the resolved ones.\n",
    "\n",
    "This suggests that speed of filing is correlated with higher resolution rates, emphasizing the importance of prompt action in complaint handling.\n",
    "\n",
    "#### What Have We Discoverd So Far?\n",
    "\n",
    "Through our exploratory data analysis, we have identified several key insights regarding customer complaints:\n",
    "\n",
    "* Geographic Distribution:\n",
    "\n",
    "    * The region with the highest number of complaints is Centro-Oeste, followed closely by Nordeste.\n",
    "\n",
    "    * The state with the most complaints is CE (Ceará).\n",
    "\n",
    "    * In all regions except Norte, unresolved complaints outnumber resolved ones, highlighting issues with customer service responsiveness in most parts of the country.\n",
    "\n",
    "* Top Companies:\n",
    "\n",
    "    * The company with the highest number of complaints is ENERGISA MATO GROSSO.\n",
    "\n",
    "* Complaint Types:\n",
    "\n",
    "    * The most frequent complaint type is Cobrança indevida (incorrect or improper billing).\n",
    "\n",
    "    * The top subject area (DescricaoAssunto) is banco comercial (commercial bank).\n",
    "\n",
    "* Customer Profile:\n",
    "\n",
    "    * The majority of complaints come from female consumers, especially those aged 31 to 40 years.\n",
    "\n",
    "    * Complaints with undisclosed gender or age tend to have lower resolution rates.\n",
    "\n",
    "* Resolution Rates:\n",
    "\n",
    "    * Overall, there are more unresolved complaints than resolved ones, suggesting a high rate of unresolved issues.\n",
    "\n",
    "    * The Centro-Oeste and Nordeste regions show particularly high volumes of unresolved complaints.\n",
    "\n",
    "* Time Between Opening and Filing:\n",
    "\n",
    "    * Most complaints are filed within the first 3 months of being opened.\n",
    "\n",
    "    * Complaints filed earlier tend to have a higher chance of being resolved.\n",
    "\n",
    "    * After the initial months, the number of filings drops significantly, and resolution rates become more balanced.\n",
    "\n"
   ]
  },
  {
   "cell_type": "markdown",
   "id": "fa05dbf2",
   "metadata": {},
   "source": [
    "## Natural Language Processing\n",
    "\n",
    "With the exploratory data analysis complete, we will now move on to building and evaluating clustering and predictive models based on the available features."
   ]
  },
  {
   "cell_type": "code",
   "execution_count": 92,
   "id": "99119225",
   "metadata": {},
   "outputs": [
    {
     "data": {
      "text/html": [
       "<div>\n",
       "<style scoped>\n",
       "    .dataframe tbody tr th:only-of-type {\n",
       "        vertical-align: middle;\n",
       "    }\n",
       "\n",
       "    .dataframe tbody tr th {\n",
       "        vertical-align: top;\n",
       "    }\n",
       "\n",
       "    .dataframe thead th {\n",
       "        text-align: right;\n",
       "    }\n",
       "</style>\n",
       "<table border=\"1\" class=\"dataframe\">\n",
       "  <thead>\n",
       "    <tr style=\"text-align: right;\">\n",
       "      <th></th>\n",
       "      <th>DataArquivamento</th>\n",
       "      <th>DataAbertura</th>\n",
       "      <th>Regiao</th>\n",
       "      <th>UF</th>\n",
       "      <th>strRazaoSocial</th>\n",
       "      <th>Tipo</th>\n",
       "      <th>Atendida</th>\n",
       "      <th>DescricaoAssunto</th>\n",
       "      <th>DescricaoProblema</th>\n",
       "      <th>SexoConsumidor</th>\n",
       "      <th>FaixaEtariaConsumidor</th>\n",
       "      <th>Tempo em Meses</th>\n",
       "    </tr>\n",
       "  </thead>\n",
       "  <tbody>\n",
       "    <tr>\n",
       "      <th>1</th>\n",
       "      <td>2022-06-27 10:57:04</td>\n",
       "      <td>2021-12-01 13:18:11</td>\n",
       "      <td>Norte</td>\n",
       "      <td>PA</td>\n",
       "      <td>SEGUROS SURA S/A</td>\n",
       "      <td>1</td>\n",
       "      <td>0</td>\n",
       "      <td>Aparelho de Som ( Gravador, 3x1, CD )</td>\n",
       "      <td>Produto com vício</td>\n",
       "      <td>M</td>\n",
       "      <td>entre 21 a 30 anos</td>\n",
       "      <td>6</td>\n",
       "    </tr>\n",
       "    <tr>\n",
       "      <th>2</th>\n",
       "      <td>2022-06-06 10:39:02</td>\n",
       "      <td>2021-10-27 11:00:05</td>\n",
       "      <td>Norte</td>\n",
       "      <td>PA</td>\n",
       "      <td>TELEFÔNICA BRASIL S/A</td>\n",
       "      <td>1</td>\n",
       "      <td>1</td>\n",
       "      <td>Telefonia Fixa ( Plano de Expansão / Compra e ...</td>\n",
       "      <td>Cobrança indevida/abusiva</td>\n",
       "      <td>F</td>\n",
       "      <td>entre 61 a 70 anos</td>\n",
       "      <td>8</td>\n",
       "    </tr>\n",
       "    <tr>\n",
       "      <th>3</th>\n",
       "      <td>2022-01-05 11:21:09</td>\n",
       "      <td>2021-09-24 10:08:06</td>\n",
       "      <td>Norte</td>\n",
       "      <td>PA</td>\n",
       "      <td>BANCO MERCANTIL DO BRASIL S/A</td>\n",
       "      <td>1</td>\n",
       "      <td>1</td>\n",
       "      <td>Banco comercial</td>\n",
       "      <td>Crédito Consignado</td>\n",
       "      <td>F</td>\n",
       "      <td>entre 51 a 60 anos</td>\n",
       "      <td>4</td>\n",
       "    </tr>\n",
       "    <tr>\n",
       "      <th>4</th>\n",
       "      <td>2022-04-11 11:42:24</td>\n",
       "      <td>2019-08-28 14:28:51</td>\n",
       "      <td>Norte</td>\n",
       "      <td>TO</td>\n",
       "      <td>VIA VAREJO S/A</td>\n",
       "      <td>1</td>\n",
       "      <td>0</td>\n",
       "      <td>Acessório para Aparelho Eletrônico/Pilha/Elétr...</td>\n",
       "      <td>Produto com vício</td>\n",
       "      <td>F</td>\n",
       "      <td>entre 51 a 60 anos</td>\n",
       "      <td>32</td>\n",
       "    </tr>\n",
       "    <tr>\n",
       "      <th>5</th>\n",
       "      <td>2022-11-29 09:27:38</td>\n",
       "      <td>2022-05-06 09:16:41</td>\n",
       "      <td>Norte</td>\n",
       "      <td>PA</td>\n",
       "      <td>LIBERTY SEGUROS S/A</td>\n",
       "      <td>1</td>\n",
       "      <td>1</td>\n",
       "      <td>Seguro</td>\n",
       "      <td>Cobrança indevida.</td>\n",
       "      <td>F</td>\n",
       "      <td>entre 41 a 50 anos</td>\n",
       "      <td>6</td>\n",
       "    </tr>\n",
       "  </tbody>\n",
       "</table>\n",
       "</div>"
      ],
      "text/plain": [
       "     DataArquivamento        DataAbertura Regiao  UF  \\\n",
       "1 2022-06-27 10:57:04 2021-12-01 13:18:11  Norte  PA   \n",
       "2 2022-06-06 10:39:02 2021-10-27 11:00:05  Norte  PA   \n",
       "3 2022-01-05 11:21:09 2021-09-24 10:08:06  Norte  PA   \n",
       "4 2022-04-11 11:42:24 2019-08-28 14:28:51  Norte  TO   \n",
       "5 2022-11-29 09:27:38 2022-05-06 09:16:41  Norte  PA   \n",
       "\n",
       "                  strRazaoSocial  Tipo Atendida  \\\n",
       "1               SEGUROS SURA S/A     1        0   \n",
       "2          TELEFÔNICA BRASIL S/A     1        1   \n",
       "3  BANCO MERCANTIL DO BRASIL S/A     1        1   \n",
       "4                 VIA VAREJO S/A     1        0   \n",
       "5            LIBERTY SEGUROS S/A     1        1   \n",
       "\n",
       "                                    DescricaoAssunto  \\\n",
       "1              Aparelho de Som ( Gravador, 3x1, CD )   \n",
       "2  Telefonia Fixa ( Plano de Expansão / Compra e ...   \n",
       "3                                    Banco comercial   \n",
       "4  Acessório para Aparelho Eletrônico/Pilha/Elétr...   \n",
       "5                                             Seguro   \n",
       "\n",
       "           DescricaoProblema SexoConsumidor FaixaEtariaConsumidor  \\\n",
       "1          Produto com vício              M    entre 21 a 30 anos   \n",
       "2  Cobrança indevida/abusiva              F    entre 61 a 70 anos   \n",
       "3         Crédito Consignado              F    entre 51 a 60 anos   \n",
       "4          Produto com vício              F    entre 51 a 60 anos   \n",
       "5         Cobrança indevida.              F    entre 41 a 50 anos   \n",
       "\n",
       "   Tempo em Meses  \n",
       "1               6  \n",
       "2               8  \n",
       "3               4  \n",
       "4              32  \n",
       "5               6  "
      ]
     },
     "execution_count": 92,
     "metadata": {},
     "output_type": "execute_result"
    }
   ],
   "source": [
    "complaints.head()"
   ]
  },
  {
   "cell_type": "markdown",
   "id": "b96fb7e8",
   "metadata": {},
   "source": [
    "### Text Pre-processing"
   ]
  },
  {
   "cell_type": "code",
   "execution_count": 93,
   "id": "5a684e0d",
   "metadata": {},
   "outputs": [],
   "source": [
    "def text_process(complaint):\n",
    "\n",
    "    if not isinstance(complaint, str):\n",
    "        complaint = str(complaint)\n",
    "\n",
    "    nopunc = [char for char in complaint if char not in string.punctuation]\n",
    "    nopunc = ''.join(nopunc)\n",
    "    \n",
    "    return [word for word in nopunc.split() if word.lower() not in stopwords.words('portuguese')]"
   ]
  },
  {
   "cell_type": "markdown",
   "id": "adcf7a85",
   "metadata": {},
   "source": [
    "### Clustering Complaints\n",
    "\n",
    "Now we will group similar complaints using KMeans. The process begins with defining the features (X) and target (y), and splitting the dataset into training and test."
   ]
  },
  {
   "cell_type": "code",
   "execution_count": 94,
   "id": "ee0fd91d",
   "metadata": {},
   "outputs": [],
   "source": [
    "X = complaints['DescricaoProblema']\n",
    "y = complaints['Atendida']"
   ]
  },
  {
   "cell_type": "code",
   "execution_count": 95,
   "id": "c710b96a",
   "metadata": {},
   "outputs": [],
   "source": [
    "X_train, X_test, y_train, y_test = train_test_split(X, y,test_size=0.3, random_state=42)"
   ]
  },
  {
   "cell_type": "markdown",
   "id": "5b8a7a7d",
   "metadata": {},
   "source": [
    "Creating a pipeline with KMeans"
   ]
  },
  {
   "cell_type": "code",
   "execution_count": 96,
   "id": "c822e5ae",
   "metadata": {},
   "outputs": [],
   "source": [
    "pipeline = Pipeline([\n",
    "    ('bow', CountVectorizer(analyzer=text_process)),  # strings to token integer counts\n",
    "    ('tfidf', TfidfTransformer()),  # integer counts to weighted TF-IDF scores\n",
    "    ('cluster', KMeans(n_clusters=10, random_state=42))\n",
    "])"
   ]
  },
  {
   "cell_type": "markdown",
   "id": "6a76af2b",
   "metadata": {},
   "source": [
    "Fitting the pipeline to the training data"
   ]
  },
  {
   "cell_type": "code",
   "execution_count": 97,
   "id": "87dc9bc7",
   "metadata": {},
   "outputs": [
    {
     "data": {
      "text/plain": [
       "'fit completed'"
      ]
     },
     "execution_count": 97,
     "metadata": {},
     "output_type": "execute_result"
    }
   ],
   "source": [
    "pipeline.fit(X_train)\n",
    "\n",
    "'fit completed'"
   ]
  },
  {
   "cell_type": "markdown",
   "id": "8aae38bc",
   "metadata": {},
   "source": [
    "#### Analyzing Clustering Complaints\n",
    "\n",
    "Let's plot the count of samples in each cluster in the training data."
   ]
  },
  {
   "cell_type": "code",
   "execution_count": 98,
   "id": "ffac0c11",
   "metadata": {},
   "outputs": [],
   "source": [
    "X_train['cluster'] = pipeline['cluster'].labels_\n",
    "\n",
    "X_test_transformed = pipeline['tfidf'].transform(pipeline['bow'].transform(X_test))\n",
    "X_test['cluster']  = pipeline['cluster'].predict(X_test_transformed)"
   ]
  },
  {
   "cell_type": "code",
   "execution_count": 99,
   "id": "56008222",
   "metadata": {},
   "outputs": [
    {
     "data": {
      "image/png": "[encoded data removed]",
      "text/plain": [
       "<Figure size 800x500 with 1 Axes>"
      ]
     },
     "metadata": {},
     "output_type": "display_data"
    }
   ],
   "source": [
    "plt.figure(figsize=(8,5))\n",
    "sns.countplot(x=X_train['cluster'], hue=X_train['cluster'], palette='tab10', legend=False)\n",
    "plt.show()"
   ]
  },
  {
   "cell_type": "markdown",
   "id": "a3b04fb9",
   "metadata": {},
   "source": [
    "#### What the countplot shows?\n",
    "\n",
    "It displays the distribution of samples across clusters in our X_train set. Each bar shows how many complaints were assigned to each cluster (0 to 11):\n",
    "\n",
    "* Cluster 0 is by far the largest, with over 19,000 complaints.\n",
    "\n",
    "* The others have moderate sizes, ranging from ~1,000 to ~6,000.\n",
    "\n",
    "This indicates that KMeans has formed imbalanced clusters, which is common in real-world data."
   ]
  },
  {
   "cell_type": "markdown",
   "id": "9fd4ce9f",
   "metadata": {},
   "source": [
    "Now, let's understand what each cluster represents."
   ]
  },
  {
   "cell_type": "code",
   "execution_count": 100,
   "id": "74bb6a96",
   "metadata": {},
   "outputs": [
    {
     "name": "stdout",
     "output_type": "stream",
     "text": [
      "\n",
      " Cluster 0 - Complaints Examples:\n",
      "- Vicio de qualidade (mal executado, inadequado, impróprio)\n",
      "- Outros problemas com contratos de saúde (Não cobertura, abrangência, reembolso)\n",
      "- Produto com vício\n",
      "- Defeito/Risco à saúde e segurança\n",
      "- Recusa injustificada em prestar serviço\n",
      "- Reajuste abusivo (preço, taxa, mensalidade, etc.)\n",
      "- Cobrança de valor quando o produto e devolvido (cobrança indevida)\n",
      "- Prazo de validade (falta, ilegível, etc.)\n",
      "- Transação Eletrônica Não Reconhecida\n",
      "- SAC - Cancelamento de serviço (retenção, demora, não envio do comprovante)\n",
      "- Má prestação de serviço (recusa, mau atendimento, sonegação de mercadoria, venda casada, entrega diferente do pedido)\n",
      "- Desbloqueio de aparelho\n",
      "- Não entrega de copia do contrato\n",
      "- Rescisão do contrato por inadimplência do consumidor\n",
      "- Garantia - Descumprimento, prazo\n",
      "- Falha bancaria em transações eletrônicas (transferencias indevidas, saques indevidos)\n",
      "- Serviço não concluído /Fornecimento parcial\n",
      "- SAC - Acompanhamento de demandas (ausência de registro numérico, não envio do histórico/registro)\n",
      "- Lançamento Não Reconhecido na Fatura\n",
      "- Peso/volume/quantidade/tamanho\n",
      "- Calculo de prestação em atraso\n",
      "- Desistência de consorcio\n",
      "- Produto entregue diferente do pedido\n",
      "- Cobrança abusiva mediante constrangimento, ameaça.\n",
      "- Fila em Banco\n",
      "- Consulta Sobre Serviços (Pesquisa, cartilha, endereços, outros)\n",
      "- Produto entregue incompleto\n",
      "- Acidente de Consumo (produto causou danos pessoais)\n",
      "- Serviço em desacordo com norma/lei\n",
      "- Extravio/avaria de bagagem, carga, correspondência, mercadoria, mudança, etc.\n",
      "- Desistência de compra (cancelamento de compra)\n",
      "- Calculo de prestação/taxa de juros\n",
      "- Cobrança de taxa indevida (elaboração de contrato, aferição de idoneidade, etc.)\n",
      "- Qualidade da construção (vícios, vazamentos, impermeabilização)\n",
      "- Não pagamento de indenização (seguros em geral)\n",
      "- Valor de reajuste (mensalidade)\n",
      "- Negativa de Cobertura\n",
      "- Rescisão/Substituição/Alteração de contrato de saúde\n",
      "- Contrato - Clausula abusiva/em desacordo com a Legislação.\n",
      "- Cobrança vexatória/difamatória\n",
      "- SAC - Acesso ao serviço (onerosidade, problemas no menu, indisponibilidade, inacessibilidade aos deficientes)\n",
      "- Não entrega de quitação/retenção de documentos\n",
      "- Não Entrega de Produto\n",
      "- Não pagamento de indenização\n",
      "- Consumidor negativado indevidamente nos serviços de proteção ao credito\n",
      "- Falta de peca de reposição\n",
      "- Antecipação de Financiamento\n",
      "- Devolução de sinal, valores pagos (negocio não concretizado)\n",
      "- Vício do Produto/Serviço\n",
      "- Demora na montagem/montagem incompleta/incorreta\n",
      "- Documentos: não fornecimento (escolares, recibo, nota, fiscal, vaucher , etc.)\n",
      "- Discordância na indenização (seguros em geral)\n",
      "- Publicidade abusiva\n",
      "- Preço do produto/serviço\n",
      "- Tarifas Bancárias – Divulgação inadequada / não divulgação na agência ou no sítio da Internet.\n",
      "- Portabilidade numérica\n",
      "- Duvidas sobre cobranças (taxas, etc.)\n",
      "- TOI - Termo de Ocorrência de Irregularidade\n",
      "- Desistência do serviço (artigo 49 - descumprimento)\n",
      "- Cobrança de multa acima do permitido pela legislação\n",
      "- Falta de assistência técnica/garantia\n",
      "- Discordância quanto as avarias\n",
      "- Erro na elaboração de formula/produto em desacordo com a formula receita\n",
      "- Recusa/mau atendimento\n",
      "- Preço (abusivo, remarcado, falta, etc.)\n",
      "- Não entrega do produto (titulo de capitalização, compra programada)\n",
      "- SAC - Qualidade do atendimento (atendente despreparado, problemas com a transferência da chamada, veiculação de mensagem publicitária)\n",
      "- Prazo de validade (ilegível/vencido/ausência)\n",
      "- Presença de sujidades, larvas e objetos estranhos.\n",
      "- Compra de veiculo (multa, transferência, alienação, não entrega de documentação)\n",
      "- Manual de Instrução (em língua estrangeira/falta de informação/informação incorreta)\n",
      "- Falha bancaria (cheques, ordem de pagamento, etc.)\n",
      "- Tarifas Bancárias – Cobrança não autorizada.\n",
      "- Recusa em receber pagamento de nota promissória, carne, etc.\n",
      "- Dano material/pessoal decorrente do serviço\n",
      "- Saldo devedor\n",
      "- Orçamento - Não cumprido/não fornecido/impreciso/incompleto/serviço não solicitado\n",
      "- Clonagem\n",
      "- Autorização de faturamento/entrega do bem/carta de credito (não entrega, atualização, valor menor)\n",
      "- Calculo do prêmio (seguros)\n",
      "- Procedimento de cobrança violenta/difamatória\n",
      "- Reajuste por alteração de faixa etária (percentual elevado/sem previsão em contrato de percentual ou faixa etária)\n",
      "- Cobrança de multa acima do permitido pela legislação (atraso no pag. de prestação/aluguel/condomínio)\n",
      "- Não execução de obras de infra-estrutura e benfeitorias\n",
      "- Roubo/furto\n",
      "- Retirada de credito sem comunicação previa.\n",
      "- Rescisão do contrato pela venda enganosa\n",
      "- Localização/alteração do lote adquirido\n",
      "- Envio de produto ou serviço sem previa solicitação\n",
      "- Rescisão do contrato pela não entrega do imóvel\n",
      "- Não pagamento de resgate (capitalização/ouro/compra)\n",
      "- Irregularidade na rotulagem (falta de dados, dados ilegíveis, outros)\n",
      "- Baixa Renda\n",
      "- Roubo de cartão\n",
      "- Tarifa de Cartão de Crédito – Cobrança Indevida (anuidade, 2ª via, etc.)\n",
      "- Valor da multa\n",
      "- Danos pessoais ao consumidor\n",
      "- CET – Não fornecimento de planilha de cálculo / Recusa de cálculo.\n",
      "- Peso, volume e quantidade\n",
      "- Reajuste anual\n",
      "- Produto causou danos materiais\n",
      "- CET – Divulgação inadequada / não divulgação nas peças publicitárias.\n",
      "- Danos materiais ao consumidor\n",
      "- Suspeita quanto a qualidade/eficácia do produto/serviço\n",
      "- Procedimentos de cobrança violenta/difamatória\n",
      "- Não entrega da escritura\n",
      "- Reajuste de saldo de caixa/diferença de prestação\n",
      "- Descredenciamento\n",
      "- Reajuste (aluguel/prestação)\n",
      "- Descumprimento de garantia pelo convênio medico (guia)\n",
      "- Publicidade abusiva.\n",
      "- Cobrança de embalagem (sacolas)\n",
      "- Reajuste sem previsão contratual\n",
      "- Cobrança de despesas extraordinárias\n",
      "- Duvidas sobre informação nutricional (avaliação nutricional: quantidade calórica)\n",
      "- Não comunicação de negativacao\n",
      "- Não fornecimento de contra vale\n",
      "- Fundo de reserva\n",
      "- Loteamento irregular\n",
      "- Valor do bem\n",
      "- Reajuste anual de contrato de saúde com percentual elevado\n",
      "- PID - Pedido de Indenização por Danos Morais\n",
      "- Calculo de antecipação de prestação\n",
      "- Denuncia vazia\n",
      "- Transferencia de cota\n",
      "- Cobrança de taxa de minuta\n",
      "- Irregularidade na rotulagem (falta de dados/dados ilegíveis ou incompletos)\n",
      "- Reajuste praticado em desacordo com a periodicidade permitida\n",
      "- Produto danificado/enferrujado/inadequado/mal armazenado\n",
      "- Não apresentação de valores cobrados a titulo de IPTU\n",
      "- Venda irregular de produto (sem receita/prescrição medica)\n",
      "- Taxa de manutenção/conservação\n",
      "- Não devolução de caução\n",
      "- Documentos assinados com espaços em branco\n",
      "- Não entrega do contrato\n",
      "- Meia entrada para estudantes - recusa/falta de informação\n",
      "- Estocagem e armazenamento (empilhamento excessivo e armazenagem incorreta)\n",
      "- Desabastecimento de produto\n",
      "- Cobrança de taxa indevida (couvert, 10%, etc.)\n",
      "- Falta de registro/alvará/autorização junto ao órgão competente\n",
      "- Acidente de Consumo (produto/serviço causou danos pessoais ao consumidor)\n",
      "- Problemas relativos a emissão/remessa de carnes/orçamentos\n",
      "- Acidente de Consumo (causou danos pessoais, físicos, mal estar)\n",
      "- Cobrança de honorários advocaticios, despesa de cobrança\n",
      "- Recusa na demonstração dos balancetes de condomínio\n",
      "- Rotulagem em língua estrangeira\n",
      "- Suspeita da pureza, composição do produto.\n",
      "- Fiador\n",
      "- Revisional de aluguel\n",
      "- Não utilização/reutilização de material descartável\n",
      "- Produto adulterado quanto a cor/odor/sabor/tamanho/aspecto\n",
      "- Recusa no recebimento do aluguel/prestação\n",
      "- Produto não possui registro, registro falso, numero de protocolo\n",
      "- Falta de Higiene em Estabelecimento\n",
      "- Recusa em demonstrar contas (água, luz, telefone, gás)\n",
      "- Despejo por falta de pagamento\n",
      "- Embalagem (amassada, enferrujada, estufada)\n",
      "- Calculo de encargos na cobrança de cheque\n",
      "- Produto não atende a finalidade especifica (cartilagem de tubarão, dietas, etc.)\n",
      "- Alteração de odor, sabor e aspecto.\n",
      "- Procedimento de cobrança violenta e difamatória.\n",
      "- Calculo de caução\n",
      "- Limitação de horário de pagamento\n",
      "- Cobrança de honorários advocaticios extrajudicial\n",
      "- Presença de sujidades/corpos estranhos\n",
      "- Loteamento clandestino\n",
      "\n",
      " Cluster 1 - Complaints Examples:\n",
      "- Cobrança indevida/abusiva\n",
      "\n",
      " Cluster 2 - Complaints Examples:\n",
      "- Cobrança indevida.\n",
      "\n",
      " Cluster 3 - Complaints Examples:\n",
      "- SAC - Resolução de demandas (ausência de resposta, excesso de prazo, não suspensão imediata da cobrança)\n",
      "- SAC – Resolução de demandas (ausência de resposta, excesso de prazo, não suspensão imediata da cobrança)\n",
      "\n",
      " Cluster 4 - Complaints Examples:\n",
      "- Contrato - Rescisão/alteração unilateral\n",
      "\n",
      " Cluster 5 - Complaints Examples:\n",
      "- Não entrega/demora na entrega do produto\n",
      "\n",
      " Cluster 6 - Complaints Examples:\n",
      "- Contrato/pedido/orçamento (rescisão, descumprimento, erro, etc.)\n",
      "- Garantia (Abrangência, cobertura, etc.)\n",
      "- Contrato (não cumprimento, alteração, transferencia, irregularidade, rescisão, etc.)\n",
      "- Serviço não fornecido (entrega/instalação/não cumprimento da oferta/contrato)\n",
      "- Não cumprimento do contrato/proposta\n",
      "- Não cumprimento à oferta\n",
      "\n",
      " Cluster 7 - Complaints Examples:\n",
      "- Duvida sobre cobrança/valor/reajuste/contrato/orçamento.\n",
      "\n",
      " Cluster 8 - Complaints Examples:\n",
      "- Crédito Consignado\n",
      "\n",
      " Cluster 9 - Complaints Examples:\n",
      "- Publicidade enganosa\n",
      "- Venda enganosa\n",
      "- Venda/Oferta/publicidade enganosa.\n",
      "- Oferta enganosa\n",
      "- Venda casada\n"
     ]
    }
   ],
   "source": [
    "clusters = pipeline['cluster'].labels_\n",
    "\n",
    "if len(clusters) != len(X_train):\n",
    "    X_train = X_train.iloc[:len(clusters)].reset_index(drop=True)\n",
    "\n",
    "for cluster_id in sorted(np.unique(clusters)):\n",
    "    print(f\"\\n Cluster {cluster_id} - Complaints Examples:\")\n",
    "    examples = X_train[clusters == cluster_id].drop_duplicates()\n",
    "    for text in examples:\n",
    "        print('-', text)\n"
   ]
  },
  {
   "cell_type": "markdown",
   "id": "d634d430",
   "metadata": {},
   "source": [
    "We can visualize the proportion of complaints that were addressed or not (Atendida) within each KMeans cluster, using the training set."
   ]
  },
  {
   "cell_type": "code",
   "execution_count": 101,
   "id": "063449e6",
   "metadata": {},
   "outputs": [
    {
     "data": {
      "image/png": "[encoded data removed]",
      "text/plain": [
       "<Figure size 640x480 with 1 Axes>"
      ]
     },
     "metadata": {},
     "output_type": "display_data"
    }
   ],
   "source": [
    "X_train = complaints[['DescricaoProblema']].loc[y_train.index].copy()\n",
    "\n",
    "X_train_clustered = X_train.copy()\n",
    "X_train_clustered['Atendida'] = y_train\n",
    "X_train_clustered['cluster'] = pipeline['cluster'].labels_\n",
    "\n",
    "sns.countplot(data=X_train_clustered, x='cluster', hue='Atendida', palette='BuPu')\n",
    "plt.title(\"Cluster service (training)\")\n",
    "plt.show()"
   ]
  },
  {
   "cell_type": "markdown",
   "id": "c7cf85b5",
   "metadata": {},
   "source": [
    "The plot shows:\n",
    "\n",
    "* X-axis: cluster count\n",
    "\n",
    "* Bar height: number of complaints in that cluster\n",
    "\n",
    "* Bar color: split between Atendida=1 (resolved) and Atendida=0 (not resolved)\n",
    "\n",
    "As we can see, cluster 0 has the highest number of complaints, which mostly are unresolved cases. \n",
    "\n",
    "The others have a moderate size, showing a more even distribution between resolved and unresolved cases"
   ]
  },
  {
   "cell_type": "markdown",
   "id": "0989457d",
   "metadata": {},
   "source": [
    "#### Most Common Words in Complaints\n",
    "\n",
    "The barplot below shows the most common words that appear in complaints. As we can see, **cobraça** (billing) is associated with over 24,000 complaints, followed by **indevida** (improper), **produto** (product), **contrato** (contract) and **abusiva** (abusive).\n",
    "\n",
    "This suggests that companies are failing to address key issues related to billing errors, abusive contractual terms, and product-related problems, which appear to be the primary drivers of customer dissatisfaction. These findings highlight the need for stronger monitoring of billing practices, clearer contractual agreements, and improved product quality control to reduce complaint volumes."
   ]
  },
  {
   "cell_type": "code",
   "execution_count": 102,
   "id": "33da2ea4",
   "metadata": {},
   "outputs": [
    {
     "data": {
      "image/png": "[encoded data removed]",
      "text/plain": [
       "<Figure size 1000x500 with 1 Axes>"
      ]
     },
     "metadata": {},
     "output_type": "display_data"
    }
   ],
   "source": [
    "# Joining all descriptions\n",
    "all_words = ' '.join(complaints['DescricaoProblema'].dropna().astype(str).str.lower())\n",
    "\n",
    "# Basic cleaning\n",
    "all_words = re.sub(r'[^a-záéíóúãõâêîôûç ]', ' ', all_words)\n",
    "all_words = text_process(all_words)\n",
    "\n",
    "# Counting words\n",
    "word_counts = Counter(all_words)\n",
    "most_common_words = word_counts.most_common(20)\n",
    "\n",
    "# Visualizing\n",
    "words, counts = zip(*most_common_words)\n",
    "plt.figure(figsize=(10,5))\n",
    "sns.barplot(x=list(counts), y=list(words))\n",
    "plt.title(\"Most Common Words in Complaints\")\n",
    "plt.show()"
   ]
  },
  {
   "cell_type": "markdown",
   "id": "50a389aa",
   "metadata": {},
   "source": [
    "We now transition to predictive modeling to assess the likelihood of a complaint being resolved."
   ]
  },
  {
   "cell_type": "markdown",
   "id": "7f6823c1",
   "metadata": {},
   "source": [
    "### Prediction: Supervised Classification with Random Forest\n",
    "\n",
    "To predict whether a complaint would be resolved or not, we apply a supervised machine learning approach using the Random Forest classifier. \n",
    "\n",
    "After the labeled dataset is split into training and test sets, where the target variable is 'Atendida', indicating whether the complaint was resolved (1) or not (0), it's time to  preprocess and vectorize the complaint descriptions using TF-IDF Vectorizer."
   ]
  },
  {
   "cell_type": "code",
   "execution_count": 103,
   "id": "37366dc2",
   "metadata": {},
   "outputs": [],
   "source": [
    "X = complaints[['DescricaoProblema', 'Regiao', 'Tipo', 'SexoConsumidor', 'Tempo em Meses', 'strRazaoSocial', 'FaixaEtariaConsumidor']]\n",
    "y = complaints['Atendida'].astype(int)"
   ]
  },
  {
   "cell_type": "code",
   "execution_count": 104,
   "id": "a8226eb1",
   "metadata": {},
   "outputs": [],
   "source": [
    "X_train, X_test, y_train, y_test = train_test_split(X, y,test_size=0.3, random_state=42)"
   ]
  },
  {
   "cell_type": "markdown",
   "id": "0ab6a172",
   "metadata": {},
   "source": [
    "Observe that X contains text, categorical and numerical columns. In order to be able to use them in a machine learning model, its necessary to preprocess and transform these features into a numerical format compatible with the model. The typical steps are:\n",
    "\n",
    "* Handle Numerical Columns:\n",
    "\n",
    "    * Scaling: Normalize or standardize numerical features (e.g., Min-Max scaling, StandardScaler) to help many algorithms perform better.\n",
    "\n",
    "* Handle Categorical Columns:\n",
    "\n",
    "    Encoding: Convert categorical variables into numerical representations.\n",
    "\n",
    "    * If the categorical variable is nominal (no natural order), use One-Hot Encoding.\n",
    "\n",
    "    * If the categorical variable is ordinal (has a meaningful order), use Ordinal Encoding or map categories to integers based on order.\n",
    "\n",
    "\n",
    "* Handle Text Columns:\n",
    "\n",
    "    * Text preprocessing: Clean text by lowercasing, removing punctuation, stopwords, and optionally stemming or lemmatization.\n",
    "\n",
    "    Feature extraction from text: Transform text into numerical features using techniques such as:\n",
    "\n",
    "    * Bag-of-Words (CountVectorizer) or TF-IDF Vectorizer, which convert text into sparse vectors."
   ]
  },
  {
   "cell_type": "code",
   "execution_count": 105,
   "id": "7eb0fc84",
   "metadata": {},
   "outputs": [],
   "source": [
    "text_col = 'DescricaoProblema'\n",
    "cat_cols = ['Regiao', 'SexoConsumidor', 'FaixaEtariaConsumidor', 'strRazaoSocial']\n",
    "num_cols = ['Tempo em Meses', 'Tipo']\n",
    "\n",
    "stopwords_pt = stopwords.words('portuguese')\n",
    "\n",
    "text_transformer = TfidfVectorizer(stop_words=stopwords_pt, max_features=1000)\n",
    "cat_transformer = OneHotEncoder(handle_unknown='ignore')\n",
    "num_transformer = StandardScaler()"
   ]
  },
  {
   "cell_type": "code",
   "execution_count": 106,
   "id": "25773b02",
   "metadata": {},
   "outputs": [],
   "source": [
    "preprocessor = ColumnTransformer([\n",
    "    ('text', text_transformer, text_col),\n",
    "    ('cat', cat_transformer, cat_cols),\n",
    "    ('num', num_transformer, num_cols)\n",
    "])"
   ]
  },
  {
   "cell_type": "code",
   "execution_count": 107,
   "id": "305208a7",
   "metadata": {},
   "outputs": [],
   "source": [
    "pipeline = Pipeline([\n",
    "    ('preprocess', preprocessor),\n",
    "    ('clf', RandomForestClassifier(random_state=42))\n",
    "])"
   ]
  },
  {
   "cell_type": "code",
   "execution_count": 108,
   "id": "b100dfa3",
   "metadata": {},
   "outputs": [],
   "source": [
    "# Setting search parameters\n",
    "param_grid_rfc = {\n",
    "    'clf__n_estimators': [100],\n",
    "    'clf__max_depth': [5, 10, None],\n",
    "    'clf__min_samples_split': [2, 5],\n",
    "    'clf__min_samples_leaf': [1, 2]\n",
    "}"
   ]
  },
  {
   "cell_type": "markdown",
   "id": "1f8d762b",
   "metadata": {},
   "source": [
    "It's important to define the objective of this predictive model. Here, we want to analyze the quality of service or detect companies with poor resolution rates. For this reason, reducing false positives is key, because the model incorrectly predicts that a complaint was resolved when it wasn’t. \n",
    "\n",
    "This creates a false sense of service quality, hiding actual unresolved issues."
   ]
  },
  {
   "cell_type": "code",
   "execution_count": 109,
   "id": "54528ebb",
   "metadata": {},
   "outputs": [
    {
     "name": "stdout",
     "output_type": "stream",
     "text": [
      "Fitting 3 folds for each of 12 candidates, totalling 36 fits\n"
     ]
    },
    {
     "data": {
      "text/plain": [
       "'fit completed'"
      ]
     },
     "execution_count": 109,
     "metadata": {},
     "output_type": "execute_result"
    }
   ],
   "source": [
    "# GridSearchCV Random Forest (hyperparameter tuning)\n",
    "grid_search_rfc = GridSearchCV(pipeline, param_grid=param_grid_rfc, cv=3, scoring='f1', n_jobs=-1, verbose=2) \n",
    "grid_search_rfc.fit(X_train, y_train)\n",
    "\n",
    "'fit completed'"
   ]
  },
  {
   "cell_type": "code",
   "execution_count": 110,
   "id": "c895eea7",
   "metadata": {},
   "outputs": [],
   "source": [
    "best_model_rfc = grid_search_rfc.best_estimator_\n",
    "\n",
    "predictions = best_model_rfc.predict(X_test)"
   ]
  },
  {
   "cell_type": "markdown",
   "id": "58b6b2ad",
   "metadata": {},
   "source": [
    "The model was trained on the TF-IDF vectors of the training set and evaluated on the test set using metrics such as accuracy, precision, recall, and F1-score."
   ]
  },
  {
   "cell_type": "code",
   "execution_count": 111,
   "id": "477c76c4",
   "metadata": {},
   "outputs": [
    {
     "name": "stdout",
     "output_type": "stream",
     "text": [
      "              precision    recall  f1-score   support\n",
      "\n",
      "           0       0.68      0.72      0.70     10965\n",
      "           1       0.66      0.61      0.63      9507\n",
      "\n",
      "    accuracy                           0.67     20472\n",
      "   macro avg       0.67      0.67      0.67     20472\n",
      "weighted avg       0.67      0.67      0.67     20472\n",
      "\n"
     ]
    }
   ],
   "source": [
    "print(classification_report(y_test,predictions))"
   ]
  },
  {
   "cell_type": "markdown",
   "id": "80c32a5e",
   "metadata": {},
   "source": [
    "#### Interpretation\n",
    "\n",
    "* Precision: When the model predicts a complaint was resolved, it is right about 66% of the time.\n",
    "\n",
    "* Recall: The model correctly identifies 61% of all resolved cases.\n",
    "\n",
    "* F1-score: The model balances precision and recall with 63%.\n",
    "\n",
    "#### Confusion Matrix"
   ]
  },
  {
   "cell_type": "code",
   "execution_count": 112,
   "id": "2c9530e1",
   "metadata": {},
   "outputs": [
    {
     "data": {
      "text/plain": [
       "<sklearn.metrics._plot.confusion_matrix.ConfusionMatrixDisplay at 0x231a0206490>"
      ]
     },
     "execution_count": 112,
     "metadata": {},
     "output_type": "execute_result"
    },
    {
     "data": {
      "image/png": "[encoded data removed]",
      "text/plain": [
       "<Figure size 640x480 with 2 Axes>"
      ]
     },
     "metadata": {},
     "output_type": "display_data"
    }
   ],
   "source": [
    "cm = confusion_matrix(y_test, predictions)\n",
    "ConfusionMatrixDisplay(cm, display_labels=[\"Nao Atendida\", \"Atendida\"]).plot(cmap='BuPu')"
   ]
  },
  {
   "cell_type": "markdown",
   "id": "d16ab834",
   "metadata": {},
   "source": [
    "The confusion matrix above takes the form:\n",
    "\n",
    "|                      | Predicted: Nao Atendida      | Predicted: Atendida         |\n",
    "| -------------------- | ------------------------ | ------------------------ |\n",
    "| **Actual: Nao Atendida** | 7920 (True Negative, TN) | 3045 (False Positive, FP) |\n",
    "| **Actual: Atendida**    | 3720 (False Negative, FN) | 5787 (True Positive, TP)  |\n",
    "\n",
    "* True Negatives shows that the model correctly predicted \"Nao Atendida\" for 7920 complaints that indeed were not resolved.\n",
    "\n",
    "* False Positives shows that the model predicted \"Atendida\" for 3045 complaints that actually were not resolved. These are false alarms.\n",
    "\n",
    "* False Negatives shows that the model predicted \"Nao Atendida\" for 3720 complaints that were actually resolved. These are missed cases.\n",
    "\n",
    "* True Positives shows that the model correctly predicted \"Atendida\" for 5787 complaints that were actually resolved."
   ]
  },
  {
   "cell_type": "markdown",
   "id": "95e20586",
   "metadata": {},
   "source": [
    "## Final Insights\n",
    "\n",
    "* Dominant Complaint Themes\n",
    "\n",
    "    * The clustering analysis revealed that the majority of complaints are concentrated around billing issues, such as overcharging, improper charges, and contract disputes. Companies from the energy, telecommunications, and water/wastewater sectors are the most frequently associated with these clusters.\n",
    "\n",
    "* Company-Level Findings\n",
    "\n",
    "    * Certain companies, such as regional utility providers, show a high concentration of complaints in clusters related to billing disputes and service interruptions.\n",
    "\n",
    "    * When comparing sectors, energy and telecom stand out for their elevated complaint volumes, while sectors like retail have fewer but more diverse issues.\n",
    "\n",
    "* Churn Risk Indicators\n",
    "\n",
    "    * The analysis of unresolved complaints highlighted specific complaint types, particularly improper billing and lack of service response, that correlate strongly with dissatisfaction. These issues represent potential churn drivers, especially in competitive markets like telecom.\n",
    "\n",
    "* Predictive Modeling Insights\n",
    "\n",
    "    * The Random Forest model achieved solid predictive performance, demonstrating that structured features (e.g., company, sector, complaint type, and region) can be leveraged to forecast whether a complaint will be resolved.\n",
    "\n",
    "* Actionable Recommendations\n",
    "\n",
    "    * For companies: Prioritize resolving billing-related disputes quickly and improve communication with consumers in high-risk clusters.\n",
    "\n",
    "    * For regulators: Focus on companies or sectors with a high rate of unresolved complaints, as these are likely sources of recurring consumer dissatisfaction."
   ]
  }
 ],
 "metadata": {
  "kernelspec": {
   "display_name": ".venv (3.11.9)",
   "language": "python",
   "name": "python3"
  },
  "language_info": {
   "codemirror_mode": {
    "name": "ipython",
    "version": 3
   },
   "file_extension": ".py",
   "mimetype": "text/x-python",
   "name": "python",
   "nbconvert_exporter": "python",
   "pygments_lexer": "ipython3",
   "version": "3.11.9"
  }
 },
 "nbformat": 4,
 "nbformat_minor": 5
}
